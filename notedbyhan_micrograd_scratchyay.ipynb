{
 "cells": [
  {
   "cell_type": "markdown",
   "metadata": {},
   "source": [
    "# Micrograd\n",
    "**The 20th Summer Project**\n",
    "\n",
    "**Noted by Han summer 2024**"
   ]
  },
  {
   "cell_type": "markdown",
   "metadata": {},
   "source": [
    "Micrograd itu basically is a automatic gradient engine. \n",
    "\n",
    "It implements backprop, algoritma yang mengevaluasi gradient dari sebuah lossfunction in respect of the weights in NN. Jadi used for tune the weight to minimize the loss\n",
    "\n",
    "Backpropagation -> Start from behind, goes backward through the mathematical equation, recursively apply calculus chain rule."
   ]
  },
  {
   "cell_type": "markdown",
   "metadata": {},
   "source": [
    "Example:\n",
    "\n",
    "Input a and b\n",
    "\n",
    "math expressions made up lol"
   ]
  },
  {
   "cell_type": "code",
   "execution_count": null,
   "metadata": {},
   "outputs": [],
   "source": [
    "from micrograd.engine import Value\n",
    "\n",
    "a = Value(-4.0)\n",
    "b = Value(2.0)\n",
    "c = a + b\n",
    "d = a * b + b**3\n",
    "c += c + 1\n",
    "c += 1 + c + (-a)\n",
    "d += d * 2 + (b + a).relu()\n",
    "d += 3 * d + (b - a).relu()\n",
    "e = c - d\n",
    "f = e**2\n",
    "g = f / 2.0\n",
    "g += 10.0 / f\n",
    "print(f'{g.data:.4f}') # prints 24.7041, the outcome of this forward pass\n",
    "# Sekarang backward pass, mengetahui pengaruh a dan b terhadap g dalam fungsi math diatas\n",
    "g.backward()"
   ]
  },
  {
   "cell_type": "code",
   "execution_count": null,
   "metadata": {},
   "outputs": [],
   "source": [
    "#dg/da = seberapa pengaruh a ke g kalau kita \"sentil\"/perubahan value a dikit kearah positif terhadap g\n",
    "print(f'{a.grad:.4f}') # prints 138.8338, berarti if we slightly nudge value a larger, g akan naik dan kemiringan/slope dari kenaikan itu 138\n",
    "#dg/db = seberapa pengaruh b ke g kalau kita \"sentil\"/perubahan value b dikit kearah positif terhadap g\n",
    "print(f'{b.grad:.4f}') # prints 645.5773, berarti b value slightly larger, the slope of the growth of g is 645"
   ]
  },
  {
   "cell_type": "markdown",
   "metadata": {},
   "source": [
    "ini menjelaskan how g will respond if a and b get tweaked slightly in positive direction"
   ]
  },
  {
   "cell_type": "markdown",
   "metadata": {},
   "source": [
    "Neural network (NN) -> basically just class of math expressions\n",
    "\n",
    "Backpropagation -> ga selalu dalam NN, yang penting itu tentang math expression"
   ]
  },
  {
   "cell_type": "markdown",
   "metadata": {},
   "source": [
    "Micrograd cuman basic inti neural network training, pengembangnya itu tentang efisiensi"
   ]
  },
  {
   "cell_type": "code",
   "execution_count": 84,
   "metadata": {},
   "outputs": [],
   "source": [
    "import math\n",
    "import numpy as np\n",
    "import matplotlib.pyplot as plt\n",
    "%matplotlib inline"
   ]
  },
  {
   "cell_type": "code",
   "execution_count": 85,
   "metadata": {},
   "outputs": [],
   "source": [
    "#Coba buat fungsi random\n",
    "def f(x):\n",
    "    return 3*x**2-4*x+5"
   ]
  },
  {
   "cell_type": "code",
   "execution_count": 86,
   "metadata": {},
   "outputs": [
    {
     "data": {
      "text/plain": [
       "20.0"
      ]
     },
     "execution_count": 86,
     "metadata": {},
     "output_type": "execute_result"
    }
   ],
   "source": [
    "f(3.0)"
   ]
  },
  {
   "cell_type": "code",
   "execution_count": 87,
   "metadata": {},
   "outputs": [
    {
     "data": {
      "text/plain": [
       "array([-5.  , -4.75, -4.5 , -4.25, -4.  , -3.75, -3.5 , -3.25, -3.  ,\n",
       "       -2.75, -2.5 , -2.25, -2.  , -1.75, -1.5 , -1.25, -1.  , -0.75,\n",
       "       -0.5 , -0.25,  0.  ,  0.25,  0.5 ,  0.75,  1.  ,  1.25,  1.5 ,\n",
       "        1.75,  2.  ,  2.25,  2.5 ,  2.75,  3.  ,  3.25,  3.5 ,  3.75,\n",
       "        4.  ,  4.25,  4.5 ,  4.75])"
      ]
     },
     "execution_count": 87,
     "metadata": {},
     "output_type": "execute_result"
    }
   ],
   "source": [
    "#Set of scalar values\n",
    "xs=np.arange(-5,5,0.25) # -5 sampai 5 (except 5) dengan interval 0.25\n",
    "xs"
   ]
  },
  {
   "cell_type": "code",
   "execution_count": 88,
   "metadata": {},
   "outputs": [
    {
     "data": {
      "text/plain": [
       "array([100.    ,  91.6875,  83.75  ,  76.1875,  69.    ,  62.1875,\n",
       "        55.75  ,  49.6875,  44.    ,  38.6875,  33.75  ,  29.1875,\n",
       "        25.    ,  21.1875,  17.75  ,  14.6875,  12.    ,   9.6875,\n",
       "         7.75  ,   6.1875,   5.    ,   4.1875,   3.75  ,   3.6875,\n",
       "         4.    ,   4.6875,   5.75  ,   7.1875,   9.    ,  11.1875,\n",
       "        13.75  ,  16.6875,  20.    ,  23.6875,  27.75  ,  32.1875,\n",
       "        37.    ,  42.1875,  47.75  ,  53.6875])"
      ]
     },
     "execution_count": 88,
     "metadata": {},
     "output_type": "execute_result"
    }
   ],
   "source": [
    "#Feed ke fungsi\n",
    "ys=f(xs)\n",
    "ys"
   ]
  },
  {
   "cell_type": "code",
   "execution_count": 89,
   "metadata": {},
   "outputs": [
    {
     "data": {
      "text/plain": [
       "[<matplotlib.lines.Line2D at 0x1f65c84f850>]"
      ]
     },
     "execution_count": 89,
     "metadata": {},
     "output_type": "execute_result"
    },
    {
     "data": {
      "image/png": "[encoded data removed]",
      "text/plain": [
       "<Figure size 640x480 with 1 Axes>"
      ]
     },
     "metadata": {},
     "output_type": "display_data"
    }
   ],
   "source": [
    "plt.plot(xs,ys)"
   ]
  },
  {
   "cell_type": "markdown",
   "metadata": {},
   "source": [
    "No one actually derives the derivative function written in the code"
   ]
  },
  {
   "attachments": {
    "image.png": {
     "image/png": "[encoded data removed]"
    }
   },
   "cell_type": "markdown",
   "metadata": {},
   "source": [
    "Harus paham tentang derivative\n",
    "\n",
    "![image.png](attachment:image.png)"
   ]
  },
  {
   "cell_type": "markdown",
   "metadata": {},
   "source": [
    "Basically if you slightly increase a (the x value) by the h value, how the function would respond (sensitivity/what is the slope of the respond)"
   ]
  },
  {
   "cell_type": "markdown",
   "metadata": {},
   "source": [
    "Selisih f(a+h) dengan f(a) kemudian di normalize dengan h nya (dibagi)"
   ]
  },
  {
   "cell_type": "code",
   "execution_count": 90,
   "metadata": {},
   "outputs": [
    {
     "data": {
      "text/plain": [
       "20.0"
      ]
     },
     "execution_count": 90,
     "metadata": {},
     "output_type": "execute_result"
    }
   ],
   "source": [
    "f(3.0) #Before"
   ]
  },
  {
   "cell_type": "code",
   "execution_count": 91,
   "metadata": {},
   "outputs": [
    {
     "data": {
      "text/plain": [
       "20.014003000000002"
      ]
     },
     "execution_count": 91,
     "metadata": {},
     "output_type": "execute_result"
    }
   ],
   "source": [
    "h=0.001\n",
    "x=3.0\n",
    "f(x+h)\n",
    "#Cek gimana respond dari fungsi f terhadap perubahan x yang awalnya 3 kita naikin dikit (h=0.001)"
   ]
  },
  {
   "cell_type": "code",
   "execution_count": 92,
   "metadata": {},
   "outputs": [
    {
     "data": {
      "text/plain": [
       "0.01400300000000243"
      ]
     },
     "execution_count": 92,
     "metadata": {},
     "output_type": "execute_result"
    }
   ],
   "source": [
    "f(x+h)-f(x) #Perubahan nilai f karena perubahan x"
   ]
  },
  {
   "cell_type": "markdown",
   "metadata": {},
   "source": [
    "Derivative , math expression of finding derrivative vs directly derives the function"
   ]
  },
  {
   "cell_type": "code",
   "execution_count": 93,
   "metadata": {},
   "outputs": [
    {
     "data": {
      "text/plain": [
       "14.00300000000243"
      ]
     },
     "execution_count": 93,
     "metadata": {},
     "output_type": "execute_result"
    }
   ],
   "source": [
    "(f(x+h)-f(x))/h #Slope dari perubahan nilai f karena perubahan x, math expression of derrivative"
   ]
  },
  {
   "cell_type": "code",
   "execution_count": 94,
   "metadata": {},
   "outputs": [
    {
     "data": {
      "text/plain": [
       "14.0"
      ]
     },
     "execution_count": 94,
     "metadata": {},
     "output_type": "execute_result"
    }
   ],
   "source": [
    "def df(x): #directly derivative of f\n",
    "    return 6*x-4\n",
    "df(3.0) #Analytical"
   ]
  },
  {
   "cell_type": "markdown",
   "metadata": {},
   "source": [
    "Kalo liat dari plotnya, sekitar value 2/3 itu slopenya udah deket 0, jadi kalo udah 0 fungsinya gakan respon apa apa terhadap perubahan"
   ]
  },
  {
   "cell_type": "code",
   "execution_count": 95,
   "metadata": {},
   "outputs": [
    {
     "data": {
      "text/plain": [
       "2.999378523327323e-06"
      ]
     },
     "execution_count": 95,
     "metadata": {},
     "output_type": "execute_result"
    }
   ],
   "source": [
    "h=0.000001\n",
    "x=2/3\n",
    "(f(x+h)-f(x))/h #Numerical"
   ]
  },
  {
   "cell_type": "markdown",
   "metadata": {},
   "source": [
    "---"
   ]
  },
  {
   "cell_type": "code",
   "execution_count": 96,
   "metadata": {},
   "outputs": [
    {
     "data": {
      "text/plain": [
       "4.0"
      ]
     },
     "execution_count": 96,
     "metadata": {},
     "output_type": "execute_result"
    }
   ],
   "source": [
    "# Let's get more complex\n",
    "a=2.0\n",
    "b=-3.0\n",
    "c=10.0\n",
    "d=a*b+c\n",
    "d"
   ]
  },
  {
   "cell_type": "code",
   "execution_count": 97,
   "metadata": {},
   "outputs": [
    {
     "name": "stdout",
     "output_type": "stream",
     "text": [
      "d1:  4.0\n",
      "d2:  3.9999969999999996\n",
      "Slope:  -3.000000000419334\n"
     ]
    }
   ],
   "source": [
    "# Look at derivative of d with respect to a , b, and c\n",
    "h=0.000001\n",
    "\n",
    "#Inputs, value we interest\n",
    "a=2.0\n",
    "b=-3.0\n",
    "c=10.0\n",
    "\n",
    "d1=a*b+c\n",
    "\n",
    "#Take a look d in respect of a\n",
    "a_h=a+h #a bumped up by h\n",
    "\n",
    "d2=a_h*b+c \n",
    "#secara intuisi d2 turun dibanding d1, karena a will be slightly positive, and b is negative karena dikali \n",
    "#jadi angka hasil perkaliannya bakal lebih negatif dari sebelumnya, sehingga pas dijumlahin dengan c bakal hasilnya lebih rendah daripada fungsi awal, \n",
    "# #jadi harusnya d bakal turun hasilnya, jadi slopenya negatif\n",
    "\n",
    "print('d1: ',d1) \n",
    "print('d2: ',d2) \n",
    "#dd/da (turunan d terhadap a), secara intuisi harusnya ini -3 (b value) karena kalau turunan d terhadap da itu hasilnya b\n",
    "print('Slope: ',(d2-d1)/h) \n",
    "#Slope negatif, berarti a naik, d turun"
   ]
  },
  {
   "cell_type": "code",
   "execution_count": 98,
   "metadata": {},
   "outputs": [
    {
     "name": "stdout",
     "output_type": "stream",
     "text": [
      "d1:  4.0\n",
      "d3:  4.000002\n",
      "Slope:  2.000000000279556\n"
     ]
    }
   ],
   "source": [
    "#Bump b by h to see the effect of b value to d\n",
    "b_h=b+h\n",
    "d3=a*b_h+c\n",
    "print('d1: ',d1)\n",
    "print('d3: ',d3)\n",
    "#dd/db (turunan d terhadap b), secara intuisi harusnya ini 2 (a value) karena kalau turunan d terhadap db itu hasilnya a\n",
    "print('Slope: ',(d3-d1)/h)"
   ]
  },
  {
   "cell_type": "code",
   "execution_count": 99,
   "metadata": {},
   "outputs": [
    {
     "name": "stdout",
     "output_type": "stream",
     "text": [
      "d1:  4.0\n",
      "d4:  4.000000999999999\n",
      "Slope:  0.9999999992515995\n"
     ]
    }
   ],
   "source": [
    "#Bump c by h to see the effect of c value to d\n",
    "c_h=c+h\n",
    "d4=a*b+c_h\n",
    "print('d1: ',d1)\n",
    "print('d4: ',d4)\n",
    "print('Slope: ',(d4-d1)/h) # dd/dc=1"
   ]
  },
  {
   "cell_type": "markdown",
   "metadata": {},
   "source": [
    "NN time, massive math expression, jadi butuh data structure"
   ]
  },
  {
   "cell_type": "code",
   "execution_count": 100,
   "metadata": {},
   "outputs": [],
   "source": [
    "#Value object of micrograd (OOP)\n",
    "class Value:\n",
    "    def __init__(self, data,_children=(), _op='', label=''): #Inisiasi value object, data value, _children awalnya empty, _op awalnya empty, add labels to the visualized graph\n",
    "        self.data=data\n",
    "        self.grad=0.0 #Gradient, awalnya 0 (means no effect), we assume each initial value has no effect to the final value\n",
    "        self._prev=set(_children) #Set of children, we need to keep track of what values produce other value (Connected)\n",
    "        self._op=_op #Operation (String), to keep track of what operation was used to produce this value\n",
    "        self.label=label #Label \n",
    "        \n",
    "    def __repr__(self): #Representasi (Repr) value object, it's providing nice looking print of the value, not some random address\n",
    "        return f'Value(data={self.data})'\n",
    "    \n",
    "    #Awalnya kalau ada 2 object value, misal a dan b, a+b bakal error karena tidak ada method __add__ yang mendefinisikan operasi penjumlahan\n",
    "    def __add__(self, other):\n",
    "        out= Value(self.data+other.data,(self,other),'+') #This is typical addition not __add__ method\n",
    "        #Value(self, data= data hasil perhitungan, children= angka yang dihitung/inputnya, _op= operasi yang dilakukan)\n",
    "        return out\n",
    "    \n",
    "    #Multiply\n",
    "    def __mul__(self, other):\n",
    "        out= Value(self.data*other.data,(self,other),'*')\n",
    "        return out\n",
    "    "
   ]
  },
  {
   "cell_type": "code",
   "execution_count": 101,
   "metadata": {},
   "outputs": [
    {
     "data": {
      "text/plain": [
       "Value(data=2.0)"
      ]
     },
     "execution_count": 101,
     "metadata": {},
     "output_type": "execute_result"
    }
   ],
   "source": [
    "a=Value(2.0,label='a')\n",
    "a"
   ]
  },
  {
   "cell_type": "code",
   "execution_count": 102,
   "metadata": {},
   "outputs": [
    {
     "data": {
      "text/plain": [
       "Value(data=-3.0)"
      ]
     },
     "execution_count": 102,
     "metadata": {},
     "output_type": "execute_result"
    }
   ],
   "source": [
    "b=Value(-3.0,label='b')\n",
    "b"
   ]
  },
  {
   "cell_type": "code",
   "execution_count": 103,
   "metadata": {},
   "outputs": [
    {
     "data": {
      "text/plain": [
       "Value(data=-1.0)"
      ]
     },
     "execution_count": 103,
     "metadata": {},
     "output_type": "execute_result"
    }
   ],
   "source": [
    "a+b #python will call internaly a.__add__(b)"
   ]
  },
  {
   "cell_type": "code",
   "execution_count": 104,
   "metadata": {},
   "outputs": [
    {
     "data": {
      "text/plain": [
       "Value(data=-6.0)"
      ]
     },
     "execution_count": 104,
     "metadata": {},
     "output_type": "execute_result"
    }
   ],
   "source": [
    "a*b #python will call internaly a.__mul__(b)"
   ]
  },
  {
   "cell_type": "code",
   "execution_count": 105,
   "metadata": {},
   "outputs": [
    {
     "data": {
      "text/plain": [
       "Value(data=4.0)"
      ]
     },
     "execution_count": 105,
     "metadata": {},
     "output_type": "execute_result"
    }
   ],
   "source": [
    "c=Value(10.0,label='c')\n",
    "d=a*b+c #python will call internaly a.__mul__(b).__add__(c)\n",
    "d"
   ]
  },
  {
   "cell_type": "code",
   "execution_count": 106,
   "metadata": {},
   "outputs": [
    {
     "data": {
      "text/plain": [
       "{Value(data=-6.0), Value(data=10.0)}"
      ]
     },
     "execution_count": 106,
     "metadata": {},
     "output_type": "execute_result"
    }
   ],
   "source": [
    "d._prev #jadi ketahuan angka apa aja yang hitung fungsi d (-6.0 itu dari a*b, 10.0 itu dari c)"
   ]
  },
  {
   "cell_type": "code",
   "execution_count": 107,
   "metadata": {},
   "outputs": [
    {
     "data": {
      "text/plain": [
       "'+'"
      ]
     },
     "execution_count": 107,
     "metadata": {},
     "output_type": "execute_result"
    }
   ],
   "source": [
    "d._op #jadi ketahuan operasi apa yang dilakukan untuk menghasilkan d"
   ]
  },
  {
   "cell_type": "markdown",
   "metadata": {},
   "source": [
    "Visualize math expression"
   ]
  },
  {
   "cell_type": "code",
   "execution_count": 108,
   "metadata": {},
   "outputs": [],
   "source": [
    "# A bunch of scary code for visualizing the math expression\n",
    "from graphviz import Digraph\n",
    "\n",
    "def trace(root):\n",
    "  # builds a set of all nodes and edges in a graph\n",
    "  nodes, edges = set(), set()\n",
    "  def build(v):\n",
    "    if v not in nodes:\n",
    "      nodes.add(v)\n",
    "      for child in v._prev:\n",
    "        edges.add((child, v))\n",
    "        build(child)\n",
    "  build(root)\n",
    "  return nodes, edges\n",
    "\n",
    "def draw_dot(root):\n",
    "  dot = Digraph(format='svg', graph_attr={'rankdir': 'LR'}) # LR = left to right\n",
    "  \n",
    "  nodes, edges = trace(root)\n",
    "  for n in nodes:\n",
    "    uid = str(id(n))\n",
    "    # for any value in the graph, create a rectangular ('record') node for it\n",
    "    dot.node(name = uid, label = \"{data %.4f}\" % (n.data), shape='record')\n",
    "    if n._op:\n",
    "      # if this value is a result of some operation, create an op node for it\n",
    "      dot.node(name = uid + n._op, label = n._op)\n",
    "      # and connect this node to it\n",
    "      dot.edge(uid + n._op, uid)\n",
    "\n",
    "  for n1, n2 in edges:\n",
    "    # connect n1 to the op node of n2\n",
    "    dot.edge(str(id(n1)), str(id(n2)) + n2._op)\n",
    "\n",
    "  return dot"
   ]
  },
  {
   "cell_type": "code",
   "execution_count": 109,
   "metadata": {},
   "outputs": [
    {
     "data": {
      "image/svg+xml": [
       "<?xml version=\"1.0\" encoding=\"UTF-8\" standalone=\"no\"?>\r\n",
       "<!DOCTYPE svg PUBLIC \"-//W3C//DTD SVG 1.1//EN\"\r\n",
       " \"http://www.w3.org/Graphics/SVG/1.1/DTD/svg11.dtd\">\r\n",
       "<!-- Generated by graphviz version 12.0.0 (20240704.0754)\r\n",
       " -->\r\n",
       "<!-- Pages: 1 -->\r\n",
       "<svg width=\"513pt\" height=\"127pt\"\r\n",
       " viewBox=\"0.00 0.00 512.75 127.00\" xmlns=\"http://www.w3.org/2000/svg\" xmlns:xlink=\"http://www.w3.org/1999/xlink\">\r\n",
       "<g id=\"graph0\" class=\"graph\" transform=\"scale(1 1) rotate(0) translate(4 123)\">\r\n",
       "<polygon fill=\"white\" stroke=\"none\" points=\"-4,4 -4,-123 508.75,-123 508.75,4 -4,4\"/>\r\n",
       "<!-- 2157627262528 -->\r\n",
       "<g id=\"node1\" class=\"node\">\r\n",
       "<title>2157627262528</title>\r\n",
       "<polygon fill=\"none\" stroke=\"black\" points=\"212.12,-27.5 212.12,-63.5 297.12,-63.5 297.12,-27.5 212.12,-27.5\"/>\r\n",
       "<text text-anchor=\"middle\" x=\"254.62\" y=\"-40.2\" font-family=\"Times New Roman,serif\" font-size=\"14.00\">data &#45;6.0000</text>\r\n",
       "</g>\r\n",
       "<!-- 2157627261664+ -->\r\n",
       "<g id=\"node4\" class=\"node\">\r\n",
       "<title>2157627261664+</title>\r\n",
       "<ellipse fill=\"none\" stroke=\"black\" cx=\"361.25\" cy=\"-72.5\" rx=\"27\" ry=\"18\"/>\r\n",
       "<text text-anchor=\"middle\" x=\"361.25\" y=\"-67.08\" font-family=\"Times New Roman,serif\" font-size=\"14.00\">+</text>\r\n",
       "</g>\r\n",
       "<!-- 2157627262528&#45;&gt;2157627261664+ -->\r\n",
       "<g id=\"edge6\" class=\"edge\">\r\n",
       "<title>2157627262528&#45;&gt;2157627261664+</title>\r\n",
       "<path fill=\"none\" stroke=\"black\" d=\"M297.58,-56.33C306.51,-58.63 315.86,-61.05 324.54,-63.28\"/>\r\n",
       "<polygon fill=\"black\" stroke=\"black\" points=\"323.43,-66.61 333.99,-65.72 325.18,-59.84 323.43,-66.61\"/>\r\n",
       "</g>\r\n",
       "<!-- 2157627262528* -->\r\n",
       "<g id=\"node2\" class=\"node\">\r\n",
       "<title>2157627262528*</title>\r\n",
       "<ellipse fill=\"none\" stroke=\"black\" cx=\"148\" cy=\"-45.5\" rx=\"27\" ry=\"18\"/>\r\n",
       "<text text-anchor=\"middle\" x=\"148\" y=\"-40.08\" font-family=\"Times New Roman,serif\" font-size=\"14.00\">*</text>\r\n",
       "</g>\r\n",
       "<!-- 2157627262528*&#45;&gt;2157627262528 -->\r\n",
       "<g id=\"edge1\" class=\"edge\">\r\n",
       "<title>2157627262528*&#45;&gt;2157627262528</title>\r\n",
       "<path fill=\"none\" stroke=\"black\" d=\"M175.4,-45.5C183.06,-45.5 191.71,-45.5 200.4,-45.5\"/>\r\n",
       "<polygon fill=\"black\" stroke=\"black\" points=\"200.24,-49 210.24,-45.5 200.24,-42 200.24,-49\"/>\r\n",
       "</g>\r\n",
       "<!-- 2157627261664 -->\r\n",
       "<g id=\"node3\" class=\"node\">\r\n",
       "<title>2157627261664</title>\r\n",
       "<polygon fill=\"none\" stroke=\"black\" points=\"424.25,-54.5 424.25,-90.5 504.75,-90.5 504.75,-54.5 424.25,-54.5\"/>\r\n",
       "<text text-anchor=\"middle\" x=\"464.5\" y=\"-67.2\" font-family=\"Times New Roman,serif\" font-size=\"14.00\">data 4.0000</text>\r\n",
       "</g>\r\n",
       "<!-- 2157627261664+&#45;&gt;2157627261664 -->\r\n",
       "<g id=\"edge2\" class=\"edge\">\r\n",
       "<title>2157627261664+&#45;&gt;2157627261664</title>\r\n",
       "<path fill=\"none\" stroke=\"black\" d=\"M388.59,-72.5C396,-72.5 404.32,-72.5 412.65,-72.5\"/>\r\n",
       "<polygon fill=\"black\" stroke=\"black\" points=\"412.42,-76 422.42,-72.5 412.42,-69 412.42,-76\"/>\r\n",
       "</g>\r\n",
       "<!-- 2157627262192 -->\r\n",
       "<g id=\"node5\" class=\"node\">\r\n",
       "<title>2157627262192</title>\r\n",
       "<polygon fill=\"none\" stroke=\"black\" points=\"2.25,-55.5 2.25,-91.5 82.75,-91.5 82.75,-55.5 2.25,-55.5\"/>\r\n",
       "<text text-anchor=\"middle\" x=\"42.5\" y=\"-68.2\" font-family=\"Times New Roman,serif\" font-size=\"14.00\">data 2.0000</text>\r\n",
       "</g>\r\n",
       "<!-- 2157627262192&#45;&gt;2157627262528* -->\r\n",
       "<g id=\"edge4\" class=\"edge\">\r\n",
       "<title>2157627262192&#45;&gt;2157627262528*</title>\r\n",
       "<path fill=\"none\" stroke=\"black\" d=\"M83.22,-62.75C92.52,-60.24 102.37,-57.57 111.47,-55.11\"/>\r\n",
       "<polygon fill=\"black\" stroke=\"black\" points=\"112.3,-58.51 121.04,-52.52 110.48,-51.75 112.3,-58.51\"/>\r\n",
       "</g>\r\n",
       "<!-- 2157627262288 -->\r\n",
       "<g id=\"node6\" class=\"node\">\r\n",
       "<title>2157627262288</title>\r\n",
       "<polygon fill=\"none\" stroke=\"black\" points=\"0,-0.5 0,-36.5 85,-36.5 85,-0.5 0,-0.5\"/>\r\n",
       "<text text-anchor=\"middle\" x=\"42.5\" y=\"-13.2\" font-family=\"Times New Roman,serif\" font-size=\"14.00\">data &#45;3.0000</text>\r\n",
       "</g>\r\n",
       "<!-- 2157627262288&#45;&gt;2157627262528* -->\r\n",
       "<g id=\"edge3\" class=\"edge\">\r\n",
       "<title>2157627262288&#45;&gt;2157627262528*</title>\r\n",
       "<path fill=\"none\" stroke=\"black\" d=\"M85.3,-29.4C93.94,-31.66 102.96,-34.01 111.36,-36.2\"/>\r\n",
       "<polygon fill=\"black\" stroke=\"black\" points=\"110.3,-39.54 120.86,-38.68 112.07,-32.77 110.3,-39.54\"/>\r\n",
       "</g>\r\n",
       "<!-- 2157627263392 -->\r\n",
       "<g id=\"node7\" class=\"node\">\r\n",
       "<title>2157627263392</title>\r\n",
       "<polygon fill=\"none\" stroke=\"black\" points=\"211,-82.5 211,-118.5 298.25,-118.5 298.25,-82.5 211,-82.5\"/>\r\n",
       "<text text-anchor=\"middle\" x=\"254.62\" y=\"-95.2\" font-family=\"Times New Roman,serif\" font-size=\"14.00\">data 10.0000</text>\r\n",
       "</g>\r\n",
       "<!-- 2157627263392&#45;&gt;2157627261664+ -->\r\n",
       "<g id=\"edge5\" class=\"edge\">\r\n",
       "<title>2157627263392&#45;&gt;2157627261664+</title>\r\n",
       "<path fill=\"none\" stroke=\"black\" d=\"M298.48,-89.03C307.17,-86.7 316.22,-84.28 324.63,-82.03\"/>\r\n",
       "<polygon fill=\"black\" stroke=\"black\" points=\"325.39,-85.45 334.14,-79.49 323.58,-78.69 325.39,-85.45\"/>\r\n",
       "</g>\r\n",
       "</g>\r\n",
       "</svg>\r\n"
      ],
      "text/plain": [
       "<graphviz.dot.Digraph at 0x1f65c7ab070>"
      ]
     },
     "execution_count": 109,
     "metadata": {},
     "output_type": "execute_result"
    }
   ],
   "source": [
    "draw_dot(d)"
   ]
  },
  {
   "cell_type": "markdown",
   "metadata": {},
   "source": [
    "After add label to graph"
   ]
  },
  {
   "cell_type": "code",
   "execution_count": 110,
   "metadata": {},
   "outputs": [],
   "source": [
    "e=a*b ; e.label='e'\n",
    "d=e+c ; d.label='d'\n",
    "#For adding the label to graph"
   ]
  },
  {
   "cell_type": "code",
   "execution_count": 111,
   "metadata": {},
   "outputs": [],
   "source": [
    "#Add label\n",
    "def draw_dot(root):\n",
    "  dot = Digraph(format='svg', graph_attr={'rankdir': 'LR'}) # LR = left to right\n",
    "  \n",
    "  nodes, edges = trace(root)\n",
    "  for n in nodes:\n",
    "    uid = str(id(n))\n",
    "    # for any value in the graph, create a rectangular ('record') node for it\n",
    "    dot.node(name = uid, label = \"{ %s | data %.4f }\" % (n.label, n.data), shape='record')\n",
    "    if n._op:\n",
    "      # if this value is a result of some operation, create an op node for it\n",
    "      dot.node(name = uid + n._op, label = n._op)\n",
    "      # and connect this node to it\n",
    "      dot.edge(uid + n._op, uid)\n",
    "\n",
    "  for n1, n2 in edges:\n",
    "    # connect n1 to the op node of n2\n",
    "    dot.edge(str(id(n1)), str(id(n2)) + n2._op)\n",
    "\n",
    "  return dot"
   ]
  },
  {
   "cell_type": "code",
   "execution_count": 112,
   "metadata": {},
   "outputs": [
    {
     "data": {
      "image/svg+xml": [
       "<?xml version=\"1.0\" encoding=\"UTF-8\" standalone=\"no\"?>\r\n",
       "<!DOCTYPE svg PUBLIC \"-//W3C//DTD SVG 1.1//EN\"\r\n",
       " \"http://www.w3.org/Graphics/SVG/1.1/DTD/svg11.dtd\">\r\n",
       "<!-- Generated by graphviz version 12.0.0 (20240704.0754)\r\n",
       " -->\r\n",
       "<!-- Pages: 1 -->\r\n",
       "<svg width=\"583pt\" height=\"127pt\"\r\n",
       " viewBox=\"0.00 0.00 582.50 127.00\" xmlns=\"http://www.w3.org/2000/svg\" xmlns:xlink=\"http://www.w3.org/1999/xlink\">\r\n",
       "<g id=\"graph0\" class=\"graph\" transform=\"scale(1 1) rotate(0) translate(4 123)\">\r\n",
       "<polygon fill=\"white\" stroke=\"none\" points=\"-4,4 -4,-123 578.5,-123 578.5,4 -4,4\"/>\r\n",
       "<!-- 2157627270864 -->\r\n",
       "<g id=\"node1\" class=\"node\">\r\n",
       "<title>2157627270864</title>\r\n",
       "<polygon fill=\"none\" stroke=\"black\" points=\"470.5,-54.5 470.5,-90.5 574.5,-90.5 574.5,-54.5 470.5,-54.5\"/>\r\n",
       "<text text-anchor=\"middle\" x=\"482.25\" y=\"-67.2\" font-family=\"Times New Roman,serif\" font-size=\"14.00\">d</text>\r\n",
       "<polyline fill=\"none\" stroke=\"black\" points=\"494,-54.75 494,-90.5\"/>\r\n",
       "<text text-anchor=\"middle\" x=\"534.25\" y=\"-67.2\" font-family=\"Times New Roman,serif\" font-size=\"14.00\">data 4.0000</text>\r\n",
       "</g>\r\n",
       "<!-- 2157627270864+ -->\r\n",
       "<g id=\"node2\" class=\"node\">\r\n",
       "<title>2157627270864+</title>\r\n",
       "<ellipse fill=\"none\" stroke=\"black\" cx=\"407.5\" cy=\"-72.5\" rx=\"27\" ry=\"18\"/>\r\n",
       "<text text-anchor=\"middle\" x=\"407.5\" y=\"-67.08\" font-family=\"Times New Roman,serif\" font-size=\"14.00\">+</text>\r\n",
       "</g>\r\n",
       "<!-- 2157627270864+&#45;&gt;2157627270864 -->\r\n",
       "<g id=\"edge1\" class=\"edge\">\r\n",
       "<title>2157627270864+&#45;&gt;2157627270864</title>\r\n",
       "<path fill=\"none\" stroke=\"black\" d=\"M434.99,-72.5C442.26,-72.5 450.46,-72.5 458.84,-72.5\"/>\r\n",
       "<polygon fill=\"black\" stroke=\"black\" points=\"458.8,-76 468.8,-72.5 458.8,-69 458.8,-76\"/>\r\n",
       "</g>\r\n",
       "<!-- 2157627262192 -->\r\n",
       "<g id=\"node3\" class=\"node\">\r\n",
       "<title>2157627262192</title>\r\n",
       "<polygon fill=\"none\" stroke=\"black\" points=\"3,-55.5 3,-91.5 105.5,-91.5 105.5,-55.5 3,-55.5\"/>\r\n",
       "<text text-anchor=\"middle\" x=\"14\" y=\"-68.2\" font-family=\"Times New Roman,serif\" font-size=\"14.00\">a</text>\r\n",
       "<polyline fill=\"none\" stroke=\"black\" points=\"25,-55.75 25,-91.5\"/>\r\n",
       "<text text-anchor=\"middle\" x=\"65.25\" y=\"-68.2\" font-family=\"Times New Roman,serif\" font-size=\"14.00\">data 2.0000</text>\r\n",
       "</g>\r\n",
       "<!-- 2157627271152* -->\r\n",
       "<g id=\"node7\" class=\"node\">\r\n",
       "<title>2157627271152*</title>\r\n",
       "<ellipse fill=\"none\" stroke=\"black\" cx=\"171.5\" cy=\"-45.5\" rx=\"27\" ry=\"18\"/>\r\n",
       "<text text-anchor=\"middle\" x=\"171.5\" y=\"-40.08\" font-family=\"Times New Roman,serif\" font-size=\"14.00\">*</text>\r\n",
       "</g>\r\n",
       "<!-- 2157627262192&#45;&gt;2157627271152* -->\r\n",
       "<g id=\"edge3\" class=\"edge\">\r\n",
       "<title>2157627262192&#45;&gt;2157627271152*</title>\r\n",
       "<path fill=\"none\" stroke=\"black\" d=\"M105.8,-61.22C115.5,-58.86 125.46,-56.44 134.58,-54.23\"/>\r\n",
       "<polygon fill=\"black\" stroke=\"black\" points=\"135.23,-57.67 144.12,-51.91 133.58,-50.87 135.23,-57.67\"/>\r\n",
       "</g>\r\n",
       "<!-- 2157627262288 -->\r\n",
       "<g id=\"node4\" class=\"node\">\r\n",
       "<title>2157627262288</title>\r\n",
       "<polygon fill=\"none\" stroke=\"black\" points=\"0,-0.5 0,-36.5 108.5,-36.5 108.5,-0.5 0,-0.5\"/>\r\n",
       "<text text-anchor=\"middle\" x=\"11.75\" y=\"-13.2\" font-family=\"Times New Roman,serif\" font-size=\"14.00\">b</text>\r\n",
       "<polyline fill=\"none\" stroke=\"black\" points=\"23.5,-0.75 23.5,-36.5\"/>\r\n",
       "<text text-anchor=\"middle\" x=\"66\" y=\"-13.2\" font-family=\"Times New Roman,serif\" font-size=\"14.00\">data &#45;3.0000</text>\r\n",
       "</g>\r\n",
       "<!-- 2157627262288&#45;&gt;2157627271152* -->\r\n",
       "<g id=\"edge5\" class=\"edge\">\r\n",
       "<title>2157627262288&#45;&gt;2157627271152*</title>\r\n",
       "<path fill=\"none\" stroke=\"black\" d=\"M108.83,-31.05C117.54,-33.09 126.37,-35.16 134.53,-37.07\"/>\r\n",
       "<polygon fill=\"black\" stroke=\"black\" points=\"133.52,-40.43 144.05,-39.3 135.11,-33.61 133.52,-40.43\"/>\r\n",
       "</g>\r\n",
       "<!-- 2157627263392 -->\r\n",
       "<g id=\"node5\" class=\"node\">\r\n",
       "<title>2157627263392</title>\r\n",
       "<polygon fill=\"none\" stroke=\"black\" points=\"234.5,-82.5 234.5,-118.5 344.5,-118.5 344.5,-82.5 234.5,-82.5\"/>\r\n",
       "<text text-anchor=\"middle\" x=\"245.88\" y=\"-95.2\" font-family=\"Times New Roman,serif\" font-size=\"14.00\">c</text>\r\n",
       "<polyline fill=\"none\" stroke=\"black\" points=\"257.25,-82.75 257.25,-118.5\"/>\r\n",
       "<text text-anchor=\"middle\" x=\"300.88\" y=\"-95.2\" font-family=\"Times New Roman,serif\" font-size=\"14.00\">data 10.0000</text>\r\n",
       "</g>\r\n",
       "<!-- 2157627263392&#45;&gt;2157627270864+ -->\r\n",
       "<g id=\"edge6\" class=\"edge\">\r\n",
       "<title>2157627263392&#45;&gt;2157627270864+</title>\r\n",
       "<path fill=\"none\" stroke=\"black\" d=\"M344.76,-87.4C353.5,-85.29 362.35,-83.16 370.52,-81.19\"/>\r\n",
       "<polygon fill=\"black\" stroke=\"black\" points=\"371.15,-84.63 380.05,-78.88 369.51,-77.83 371.15,-84.63\"/>\r\n",
       "</g>\r\n",
       "<!-- 2157627271152 -->\r\n",
       "<g id=\"node6\" class=\"node\">\r\n",
       "<title>2157627271152</title>\r\n",
       "<polygon fill=\"none\" stroke=\"black\" points=\"236,-27.5 236,-63.5 343,-63.5 343,-27.5 236,-27.5\"/>\r\n",
       "<text text-anchor=\"middle\" x=\"247\" y=\"-40.2\" font-family=\"Times New Roman,serif\" font-size=\"14.00\">e</text>\r\n",
       "<polyline fill=\"none\" stroke=\"black\" points=\"258,-27.75 258,-63.5\"/>\r\n",
       "<text text-anchor=\"middle\" x=\"300.5\" y=\"-40.2\" font-family=\"Times New Roman,serif\" font-size=\"14.00\">data &#45;6.0000</text>\r\n",
       "</g>\r\n",
       "<!-- 2157627271152&#45;&gt;2157627270864+ -->\r\n",
       "<g id=\"edge4\" class=\"edge\">\r\n",
       "<title>2157627271152&#45;&gt;2157627270864+</title>\r\n",
       "<path fill=\"none\" stroke=\"black\" d=\"M343.41,-57.81C352.53,-59.94 361.82,-62.1 370.36,-64.09\"/>\r\n",
       "<polygon fill=\"black\" stroke=\"black\" points=\"369.47,-67.47 380,-66.33 371.05,-60.66 369.47,-67.47\"/>\r\n",
       "</g>\r\n",
       "<!-- 2157627271152*&#45;&gt;2157627271152 -->\r\n",
       "<g id=\"edge2\" class=\"edge\">\r\n",
       "<title>2157627271152*&#45;&gt;2157627271152</title>\r\n",
       "<path fill=\"none\" stroke=\"black\" d=\"M198.82,-45.5C206.53,-45.5 215.32,-45.5 224.3,-45.5\"/>\r\n",
       "<polygon fill=\"black\" stroke=\"black\" points=\"224.21,-49 234.21,-45.5 224.21,-42 224.21,-49\"/>\r\n",
       "</g>\r\n",
       "</g>\r\n",
       "</svg>\r\n"
      ],
      "text/plain": [
       "<graphviz.dot.Digraph at 0x1f65c6a4bb0>"
      ]
     },
     "execution_count": 112,
     "metadata": {},
     "output_type": "execute_result"
    }
   ],
   "source": [
    "draw_dot(d)"
   ]
  },
  {
   "cell_type": "markdown",
   "metadata": {},
   "source": [
    "Jadi mirip neural net\n",
    "\n",
    "Lets make the expression deeper"
   ]
  },
  {
   "cell_type": "code",
   "execution_count": 113,
   "metadata": {},
   "outputs": [],
   "source": [
    "f=Value(-2.0,label='f')\n",
    "L = d*f\n",
    "L ; L.label='L' #notedbyhan"
   ]
  },
  {
   "cell_type": "code",
   "execution_count": 114,
   "metadata": {},
   "outputs": [
    {
     "data": {
      "image/svg+xml": [
       "<?xml version=\"1.0\" encoding=\"UTF-8\" standalone=\"no\"?>\r\n",
       "<!DOCTYPE svg PUBLIC \"-//W3C//DTD SVG 1.1//EN\"\r\n",
       " \"http://www.w3.org/Graphics/SVG/1.1/DTD/svg11.dtd\">\r\n",
       "<!-- Generated by graphviz version 12.0.0 (20240704.0754)\r\n",
       " -->\r\n",
       "<!-- Pages: 1 -->\r\n",
       "<svg width=\"819pt\" height=\"154pt\"\r\n",
       " viewBox=\"0.00 0.00 819.25 154.00\" xmlns=\"http://www.w3.org/2000/svg\" xmlns:xlink=\"http://www.w3.org/1999/xlink\">\r\n",
       "<g id=\"graph0\" class=\"graph\" transform=\"scale(1 1) rotate(0) translate(4 150)\">\r\n",
       "<polygon fill=\"white\" stroke=\"none\" points=\"-4,4 -4,-150 815.25,-150 815.25,4 -4,4\"/>\r\n",
       "<!-- 2157624968768 -->\r\n",
       "<g id=\"node1\" class=\"node\">\r\n",
       "<title>2157624968768</title>\r\n",
       "<polygon fill=\"none\" stroke=\"black\" points=\"470.5,-109.5 470.5,-145.5 576,-145.5 576,-109.5 470.5,-109.5\"/>\r\n",
       "<text text-anchor=\"middle\" x=\"480.75\" y=\"-122.2\" font-family=\"Times New Roman,serif\" font-size=\"14.00\">f</text>\r\n",
       "<polyline fill=\"none\" stroke=\"black\" points=\"491,-109.75 491,-145.5\"/>\r\n",
       "<text text-anchor=\"middle\" x=\"533.5\" y=\"-122.2\" font-family=\"Times New Roman,serif\" font-size=\"14.00\">data &#45;2.0000</text>\r\n",
       "</g>\r\n",
       "<!-- 2157625801456* -->\r\n",
       "<g id=\"node5\" class=\"node\">\r\n",
       "<title>2157625801456*</title>\r\n",
       "<ellipse fill=\"none\" stroke=\"black\" cx=\"639\" cy=\"-99.5\" rx=\"27\" ry=\"18\"/>\r\n",
       "<text text-anchor=\"middle\" x=\"639\" y=\"-94.08\" font-family=\"Times New Roman,serif\" font-size=\"14.00\">*</text>\r\n",
       "</g>\r\n",
       "<!-- 2157624968768&#45;&gt;2157625801456* -->\r\n",
       "<g id=\"edge4\" class=\"edge\">\r\n",
       "<title>2157624968768&#45;&gt;2157625801456*</title>\r\n",
       "<path fill=\"none\" stroke=\"black\" d=\"M576.46,-114.65C585.2,-112.5 594.08,-110.31 602.28,-108.29\"/>\r\n",
       "<polygon fill=\"black\" stroke=\"black\" points=\"602.98,-111.73 611.85,-105.94 601.31,-104.93 602.98,-111.73\"/>\r\n",
       "</g>\r\n",
       "<!-- 2157627270864 -->\r\n",
       "<g id=\"node2\" class=\"node\">\r\n",
       "<title>2157627270864</title>\r\n",
       "<polygon fill=\"none\" stroke=\"black\" points=\"471.25,-54.5 471.25,-90.5 575.25,-90.5 575.25,-54.5 471.25,-54.5\"/>\r\n",
       "<text text-anchor=\"middle\" x=\"483\" y=\"-67.2\" font-family=\"Times New Roman,serif\" font-size=\"14.00\">d</text>\r\n",
       "<polyline fill=\"none\" stroke=\"black\" points=\"494.75,-54.75 494.75,-90.5\"/>\r\n",
       "<text text-anchor=\"middle\" x=\"535\" y=\"-67.2\" font-family=\"Times New Roman,serif\" font-size=\"14.00\">data 4.0000</text>\r\n",
       "</g>\r\n",
       "<!-- 2157627270864&#45;&gt;2157625801456* -->\r\n",
       "<g id=\"edge8\" class=\"edge\">\r\n",
       "<title>2157627270864&#45;&gt;2157625801456*</title>\r\n",
       "<path fill=\"none\" stroke=\"black\" d=\"M575.47,-84.66C584.47,-86.79 593.66,-88.98 602.13,-90.99\"/>\r\n",
       "<polygon fill=\"black\" stroke=\"black\" points=\"601.13,-94.35 611.67,-93.25 602.75,-87.54 601.13,-94.35\"/>\r\n",
       "</g>\r\n",
       "<!-- 2157627270864+ -->\r\n",
       "<g id=\"node3\" class=\"node\">\r\n",
       "<title>2157627270864+</title>\r\n",
       "<ellipse fill=\"none\" stroke=\"black\" cx=\"407.5\" cy=\"-72.5\" rx=\"27\" ry=\"18\"/>\r\n",
       "<text text-anchor=\"middle\" x=\"407.5\" y=\"-67.08\" font-family=\"Times New Roman,serif\" font-size=\"14.00\">+</text>\r\n",
       "</g>\r\n",
       "<!-- 2157627270864+&#45;&gt;2157627270864 -->\r\n",
       "<g id=\"edge1\" class=\"edge\">\r\n",
       "<title>2157627270864+&#45;&gt;2157627270864</title>\r\n",
       "<path fill=\"none\" stroke=\"black\" d=\"M434.88,-72.5C442.37,-72.5 450.85,-72.5 459.52,-72.5\"/>\r\n",
       "<polygon fill=\"black\" stroke=\"black\" points=\"459.44,-76 469.44,-72.5 459.44,-69 459.44,-76\"/>\r\n",
       "</g>\r\n",
       "<!-- 2157625801456 -->\r\n",
       "<g id=\"node4\" class=\"node\">\r\n",
       "<title>2157625801456</title>\r\n",
       "<polygon fill=\"none\" stroke=\"black\" points=\"702,-81.5 702,-117.5 811.25,-117.5 811.25,-81.5 702,-81.5\"/>\r\n",
       "<text text-anchor=\"middle\" x=\"714.12\" y=\"-94.2\" font-family=\"Times New Roman,serif\" font-size=\"14.00\">L</text>\r\n",
       "<polyline fill=\"none\" stroke=\"black\" points=\"726.25,-81.75 726.25,-117.5\"/>\r\n",
       "<text text-anchor=\"middle\" x=\"768.75\" y=\"-94.2\" font-family=\"Times New Roman,serif\" font-size=\"14.00\">data &#45;8.0000</text>\r\n",
       "</g>\r\n",
       "<!-- 2157625801456*&#45;&gt;2157625801456 -->\r\n",
       "<g id=\"edge2\" class=\"edge\">\r\n",
       "<title>2157625801456*&#45;&gt;2157625801456</title>\r\n",
       "<path fill=\"none\" stroke=\"black\" d=\"M666.24,-99.5C673.56,-99.5 681.85,-99.5 690.36,-99.5\"/>\r\n",
       "<polygon fill=\"black\" stroke=\"black\" points=\"690.1,-103 700.1,-99.5 690.1,-96 690.1,-103\"/>\r\n",
       "</g>\r\n",
       "<!-- 2157627262192 -->\r\n",
       "<g id=\"node6\" class=\"node\">\r\n",
       "<title>2157627262192</title>\r\n",
       "<polygon fill=\"none\" stroke=\"black\" points=\"3,-55.5 3,-91.5 105.5,-91.5 105.5,-55.5 3,-55.5\"/>\r\n",
       "<text text-anchor=\"middle\" x=\"14\" y=\"-68.2\" font-family=\"Times New Roman,serif\" font-size=\"14.00\">a</text>\r\n",
       "<polyline fill=\"none\" stroke=\"black\" points=\"25,-55.75 25,-91.5\"/>\r\n",
       "<text text-anchor=\"middle\" x=\"65.25\" y=\"-68.2\" font-family=\"Times New Roman,serif\" font-size=\"14.00\">data 2.0000</text>\r\n",
       "</g>\r\n",
       "<!-- 2157627271152* -->\r\n",
       "<g id=\"node10\" class=\"node\">\r\n",
       "<title>2157627271152*</title>\r\n",
       "<ellipse fill=\"none\" stroke=\"black\" cx=\"171.5\" cy=\"-45.5\" rx=\"27\" ry=\"18\"/>\r\n",
       "<text text-anchor=\"middle\" x=\"171.5\" y=\"-40.08\" font-family=\"Times New Roman,serif\" font-size=\"14.00\">*</text>\r\n",
       "</g>\r\n",
       "<!-- 2157627262192&#45;&gt;2157627271152* -->\r\n",
       "<g id=\"edge9\" class=\"edge\">\r\n",
       "<title>2157627262192&#45;&gt;2157627271152*</title>\r\n",
       "<path fill=\"none\" stroke=\"black\" d=\"M105.8,-61.22C115.5,-58.86 125.46,-56.44 134.58,-54.23\"/>\r\n",
       "<polygon fill=\"black\" stroke=\"black\" points=\"135.23,-57.67 144.12,-51.91 133.58,-50.87 135.23,-57.67\"/>\r\n",
       "</g>\r\n",
       "<!-- 2157627262288 -->\r\n",
       "<g id=\"node7\" class=\"node\">\r\n",
       "<title>2157627262288</title>\r\n",
       "<polygon fill=\"none\" stroke=\"black\" points=\"0,-0.5 0,-36.5 108.5,-36.5 108.5,-0.5 0,-0.5\"/>\r\n",
       "<text text-anchor=\"middle\" x=\"11.75\" y=\"-13.2\" font-family=\"Times New Roman,serif\" font-size=\"14.00\">b</text>\r\n",
       "<polyline fill=\"none\" stroke=\"black\" points=\"23.5,-0.75 23.5,-36.5\"/>\r\n",
       "<text text-anchor=\"middle\" x=\"66\" y=\"-13.2\" font-family=\"Times New Roman,serif\" font-size=\"14.00\">data &#45;3.0000</text>\r\n",
       "</g>\r\n",
       "<!-- 2157627262288&#45;&gt;2157627271152* -->\r\n",
       "<g id=\"edge7\" class=\"edge\">\r\n",
       "<title>2157627262288&#45;&gt;2157627271152*</title>\r\n",
       "<path fill=\"none\" stroke=\"black\" d=\"M108.83,-31.05C117.54,-33.09 126.37,-35.16 134.53,-37.07\"/>\r\n",
       "<polygon fill=\"black\" stroke=\"black\" points=\"133.52,-40.43 144.05,-39.3 135.11,-33.61 133.52,-40.43\"/>\r\n",
       "</g>\r\n",
       "<!-- 2157627263392 -->\r\n",
       "<g id=\"node8\" class=\"node\">\r\n",
       "<title>2157627263392</title>\r\n",
       "<polygon fill=\"none\" stroke=\"black\" points=\"234.5,-82.5 234.5,-118.5 344.5,-118.5 344.5,-82.5 234.5,-82.5\"/>\r\n",
       "<text text-anchor=\"middle\" x=\"245.88\" y=\"-95.2\" font-family=\"Times New Roman,serif\" font-size=\"14.00\">c</text>\r\n",
       "<polyline fill=\"none\" stroke=\"black\" points=\"257.25,-82.75 257.25,-118.5\"/>\r\n",
       "<text text-anchor=\"middle\" x=\"300.88\" y=\"-95.2\" font-family=\"Times New Roman,serif\" font-size=\"14.00\">data 10.0000</text>\r\n",
       "</g>\r\n",
       "<!-- 2157627263392&#45;&gt;2157627270864+ -->\r\n",
       "<g id=\"edge6\" class=\"edge\">\r\n",
       "<title>2157627263392&#45;&gt;2157627270864+</title>\r\n",
       "<path fill=\"none\" stroke=\"black\" d=\"M344.76,-87.4C353.5,-85.29 362.35,-83.16 370.52,-81.19\"/>\r\n",
       "<polygon fill=\"black\" stroke=\"black\" points=\"371.15,-84.63 380.05,-78.88 369.51,-77.83 371.15,-84.63\"/>\r\n",
       "</g>\r\n",
       "<!-- 2157627271152 -->\r\n",
       "<g id=\"node9\" class=\"node\">\r\n",
       "<title>2157627271152</title>\r\n",
       "<polygon fill=\"none\" stroke=\"black\" points=\"236,-27.5 236,-63.5 343,-63.5 343,-27.5 236,-27.5\"/>\r\n",
       "<text text-anchor=\"middle\" x=\"247\" y=\"-40.2\" font-family=\"Times New Roman,serif\" font-size=\"14.00\">e</text>\r\n",
       "<polyline fill=\"none\" stroke=\"black\" points=\"258,-27.75 258,-63.5\"/>\r\n",
       "<text text-anchor=\"middle\" x=\"300.5\" y=\"-40.2\" font-family=\"Times New Roman,serif\" font-size=\"14.00\">data &#45;6.0000</text>\r\n",
       "</g>\r\n",
       "<!-- 2157627271152&#45;&gt;2157627270864+ -->\r\n",
       "<g id=\"edge5\" class=\"edge\">\r\n",
       "<title>2157627271152&#45;&gt;2157627270864+</title>\r\n",
       "<path fill=\"none\" stroke=\"black\" d=\"M343.41,-57.81C352.53,-59.94 361.82,-62.1 370.36,-64.09\"/>\r\n",
       "<polygon fill=\"black\" stroke=\"black\" points=\"369.47,-67.47 380,-66.33 371.05,-60.66 369.47,-67.47\"/>\r\n",
       "</g>\r\n",
       "<!-- 2157627271152*&#45;&gt;2157627271152 -->\r\n",
       "<g id=\"edge3\" class=\"edge\">\r\n",
       "<title>2157627271152*&#45;&gt;2157627271152</title>\r\n",
       "<path fill=\"none\" stroke=\"black\" d=\"M198.82,-45.5C206.53,-45.5 215.32,-45.5 224.3,-45.5\"/>\r\n",
       "<polygon fill=\"black\" stroke=\"black\" points=\"224.21,-49 234.21,-45.5 224.21,-42 224.21,-49\"/>\r\n",
       "</g>\r\n",
       "</g>\r\n",
       "</svg>\r\n"
      ],
      "text/plain": [
       "<graphviz.dot.Digraph at 0x1f65c784e50>"
      ]
     },
     "execution_count": 114,
     "metadata": {},
     "output_type": "execute_result"
    }
   ],
   "source": [
    "draw_dot(L)"
   ]
  },
  {
   "cell_type": "markdown",
   "metadata": {},
   "source": [
    "## Now lets do backprop, the manual back prop one."
   ]
  },
  {
   "cell_type": "code",
   "execution_count": 115,
   "metadata": {},
   "outputs": [],
   "source": [
    "#Adding grad to the graph\n",
    "def draw_dot(root):\n",
    "  dot = Digraph(format='svg', graph_attr={'rankdir': 'LR'}) # LR = left to right\n",
    "  \n",
    "  nodes, edges = trace(root)\n",
    "  for n in nodes:\n",
    "    uid = str(id(n))\n",
    "    # for any value in the graph, create a rectangular ('record') node for it\n",
    "    dot.node(name = uid, label = \"{ %s | data %.4f | grad %.4f }\" % (n.label, n.data, n.grad), shape='record')\n",
    "    if n._op:\n",
    "      # if this value is a result of some operation, create an op node for it\n",
    "      dot.node(name = uid + n._op, label = n._op)\n",
    "      # and connect this node to it\n",
    "      dot.edge(uid + n._op, uid)\n",
    "\n",
    "  for n1, n2 in edges:\n",
    "    # connect n1 to the op node of n2\n",
    "    dot.edge(str(id(n1)), str(id(n2)) + n2._op)\n",
    "\n",
    "  return dot"
   ]
  },
  {
   "cell_type": "code",
   "execution_count": 116,
   "metadata": {},
   "outputs": [
    {
     "data": {
      "image/svg+xml": [
       "<?xml version=\"1.0\" encoding=\"UTF-8\" standalone=\"no\"?>\r\n",
       "<!DOCTYPE svg PUBLIC \"-//W3C//DTD SVG 1.1//EN\"\r\n",
       " \"http://www.w3.org/Graphics/SVG/1.1/DTD/svg11.dtd\">\r\n",
       "<!-- Generated by graphviz version 12.0.0 (20240704.0754)\r\n",
       " -->\r\n",
       "<!-- Pages: 1 -->\r\n",
       "<svg width=\"1147pt\" height=\"154pt\"\r\n",
       " viewBox=\"0.00 0.00 1147.25 154.00\" xmlns=\"http://www.w3.org/2000/svg\" xmlns:xlink=\"http://www.w3.org/1999/xlink\">\r\n",
       "<g id=\"graph0\" class=\"graph\" transform=\"scale(1 1) rotate(0) translate(4 150)\">\r\n",
       "<polygon fill=\"white\" stroke=\"none\" points=\"-4,4 -4,-150 1143.25,-150 1143.25,4 -4,4\"/>\r\n",
       "<!-- 2157624968768 -->\r\n",
       "<g id=\"node1\" class=\"node\">\r\n",
       "<title>2157624968768</title>\r\n",
       "<polygon fill=\"none\" stroke=\"black\" points=\"634.5,-109.5 634.5,-145.5 822,-145.5 822,-109.5 634.5,-109.5\"/>\r\n",
       "<text text-anchor=\"middle\" x=\"644.75\" y=\"-122.2\" font-family=\"Times New Roman,serif\" font-size=\"14.00\">f</text>\r\n",
       "<polyline fill=\"none\" stroke=\"black\" points=\"655,-109.75 655,-145.5\"/>\r\n",
       "<text text-anchor=\"middle\" x=\"697.5\" y=\"-122.2\" font-family=\"Times New Roman,serif\" font-size=\"14.00\">data &#45;2.0000</text>\r\n",
       "<polyline fill=\"none\" stroke=\"black\" points=\"740,-109.75 740,-145.5\"/>\r\n",
       "<text text-anchor=\"middle\" x=\"781\" y=\"-122.2\" font-family=\"Times New Roman,serif\" font-size=\"14.00\">grad 0.0000</text>\r\n",
       "</g>\r\n",
       "<!-- 2157625801456* -->\r\n",
       "<g id=\"node5\" class=\"node\">\r\n",
       "<title>2157625801456*</title>\r\n",
       "<ellipse fill=\"none\" stroke=\"black\" cx=\"885\" cy=\"-99.5\" rx=\"27\" ry=\"18\"/>\r\n",
       "<text text-anchor=\"middle\" x=\"885\" y=\"-94.08\" font-family=\"Times New Roman,serif\" font-size=\"14.00\">*</text>\r\n",
       "</g>\r\n",
       "<!-- 2157624968768&#45;&gt;2157625801456* -->\r\n",
       "<g id=\"edge4\" class=\"edge\">\r\n",
       "<title>2157624968768&#45;&gt;2157625801456*</title>\r\n",
       "<path fill=\"none\" stroke=\"black\" d=\"M822.39,-110.65C831.15,-109.06 839.63,-107.53 847.34,-106.13\"/>\r\n",
       "<polygon fill=\"black\" stroke=\"black\" points=\"847.71,-109.62 856.93,-104.4 846.46,-102.73 847.71,-109.62\"/>\r\n",
       "</g>\r\n",
       "<!-- 2157627270864 -->\r\n",
       "<g id=\"node2\" class=\"node\">\r\n",
       "<title>2157627270864</title>\r\n",
       "<polygon fill=\"none\" stroke=\"black\" points=\"635.25,-54.5 635.25,-90.5 821.25,-90.5 821.25,-54.5 635.25,-54.5\"/>\r\n",
       "<text text-anchor=\"middle\" x=\"647\" y=\"-67.2\" font-family=\"Times New Roman,serif\" font-size=\"14.00\">d</text>\r\n",
       "<polyline fill=\"none\" stroke=\"black\" points=\"658.75,-54.75 658.75,-90.5\"/>\r\n",
       "<text text-anchor=\"middle\" x=\"699\" y=\"-67.2\" font-family=\"Times New Roman,serif\" font-size=\"14.00\">data 4.0000</text>\r\n",
       "<polyline fill=\"none\" stroke=\"black\" points=\"739.25,-54.75 739.25,-90.5\"/>\r\n",
       "<text text-anchor=\"middle\" x=\"780.25\" y=\"-67.2\" font-family=\"Times New Roman,serif\" font-size=\"14.00\">grad 0.0000</text>\r\n",
       "</g>\r\n",
       "<!-- 2157627270864&#45;&gt;2157625801456* -->\r\n",
       "<g id=\"edge8\" class=\"edge\">\r\n",
       "<title>2157627270864&#45;&gt;2157625801456*</title>\r\n",
       "<path fill=\"none\" stroke=\"black\" d=\"M821.5,-88.6C830.64,-90.19 839.48,-91.73 847.5,-93.13\"/>\r\n",
       "<polygon fill=\"black\" stroke=\"black\" points=\"846.66,-96.54 857.12,-94.81 847.87,-89.64 846.66,-96.54\"/>\r\n",
       "</g>\r\n",
       "<!-- 2157627270864+ -->\r\n",
       "<g id=\"node3\" class=\"node\">\r\n",
       "<title>2157627270864+</title>\r\n",
       "<ellipse fill=\"none\" stroke=\"black\" cx=\"571.5\" cy=\"-72.5\" rx=\"27\" ry=\"18\"/>\r\n",
       "<text text-anchor=\"middle\" x=\"571.5\" y=\"-67.08\" font-family=\"Times New Roman,serif\" font-size=\"14.00\">+</text>\r\n",
       "</g>\r\n",
       "<!-- 2157627270864+&#45;&gt;2157627270864 -->\r\n",
       "<g id=\"edge1\" class=\"edge\">\r\n",
       "<title>2157627270864+&#45;&gt;2157627270864</title>\r\n",
       "<path fill=\"none\" stroke=\"black\" d=\"M598.75,-72.5C606.11,-72.5 614.58,-72.5 623.59,-72.5\"/>\r\n",
       "<polygon fill=\"black\" stroke=\"black\" points=\"623.3,-76 633.3,-72.5 623.3,-69 623.3,-76\"/>\r\n",
       "</g>\r\n",
       "<!-- 2157625801456 -->\r\n",
       "<g id=\"node4\" class=\"node\">\r\n",
       "<title>2157625801456</title>\r\n",
       "<polygon fill=\"none\" stroke=\"black\" points=\"948,-81.5 948,-117.5 1139.25,-117.5 1139.25,-81.5 948,-81.5\"/>\r\n",
       "<text text-anchor=\"middle\" x=\"960.12\" y=\"-94.2\" font-family=\"Times New Roman,serif\" font-size=\"14.00\">L</text>\r\n",
       "<polyline fill=\"none\" stroke=\"black\" points=\"972.25,-81.75 972.25,-117.5\"/>\r\n",
       "<text text-anchor=\"middle\" x=\"1014.75\" y=\"-94.2\" font-family=\"Times New Roman,serif\" font-size=\"14.00\">data &#45;8.0000</text>\r\n",
       "<polyline fill=\"none\" stroke=\"black\" points=\"1057.25,-81.75 1057.25,-117.5\"/>\r\n",
       "<text text-anchor=\"middle\" x=\"1098.25\" y=\"-94.2\" font-family=\"Times New Roman,serif\" font-size=\"14.00\">grad 0.0000</text>\r\n",
       "</g>\r\n",
       "<!-- 2157625801456*&#45;&gt;2157625801456 -->\r\n",
       "<g id=\"edge2\" class=\"edge\">\r\n",
       "<title>2157625801456*&#45;&gt;2157625801456</title>\r\n",
       "<path fill=\"none\" stroke=\"black\" d=\"M912.22,-99.5C919.38,-99.5 927.61,-99.5 936.37,-99.5\"/>\r\n",
       "<polygon fill=\"black\" stroke=\"black\" points=\"936.21,-103 946.21,-99.5 936.21,-96 936.21,-103\"/>\r\n",
       "</g>\r\n",
       "<!-- 2157627262192 -->\r\n",
       "<g id=\"node6\" class=\"node\">\r\n",
       "<title>2157627262192</title>\r\n",
       "<polygon fill=\"none\" stroke=\"black\" points=\"3,-55.5 3,-91.5 187.5,-91.5 187.5,-55.5 3,-55.5\"/>\r\n",
       "<text text-anchor=\"middle\" x=\"14\" y=\"-68.2\" font-family=\"Times New Roman,serif\" font-size=\"14.00\">a</text>\r\n",
       "<polyline fill=\"none\" stroke=\"black\" points=\"25,-55.75 25,-91.5\"/>\r\n",
       "<text text-anchor=\"middle\" x=\"65.25\" y=\"-68.2\" font-family=\"Times New Roman,serif\" font-size=\"14.00\">data 2.0000</text>\r\n",
       "<polyline fill=\"none\" stroke=\"black\" points=\"105.5,-55.75 105.5,-91.5\"/>\r\n",
       "<text text-anchor=\"middle\" x=\"146.5\" y=\"-68.2\" font-family=\"Times New Roman,serif\" font-size=\"14.00\">grad 0.0000</text>\r\n",
       "</g>\r\n",
       "<!-- 2157627271152* -->\r\n",
       "<g id=\"node10\" class=\"node\">\r\n",
       "<title>2157627271152*</title>\r\n",
       "<ellipse fill=\"none\" stroke=\"black\" cx=\"253.5\" cy=\"-45.5\" rx=\"27\" ry=\"18\"/>\r\n",
       "<text text-anchor=\"middle\" x=\"253.5\" y=\"-40.08\" font-family=\"Times New Roman,serif\" font-size=\"14.00\">*</text>\r\n",
       "</g>\r\n",
       "<!-- 2157627262192&#45;&gt;2157627271152* -->\r\n",
       "<g id=\"edge9\" class=\"edge\">\r\n",
       "<title>2157627262192&#45;&gt;2157627271152*</title>\r\n",
       "<path fill=\"none\" stroke=\"black\" d=\"M187.59,-57.13C197.51,-55.35 207.14,-53.63 215.8,-52.08\"/>\r\n",
       "<polygon fill=\"black\" stroke=\"black\" points=\"216.25,-55.55 225.48,-50.34 215.02,-48.66 216.25,-55.55\"/>\r\n",
       "</g>\r\n",
       "<!-- 2157627262288 -->\r\n",
       "<g id=\"node7\" class=\"node\">\r\n",
       "<title>2157627262288</title>\r\n",
       "<polygon fill=\"none\" stroke=\"black\" points=\"0,-0.5 0,-36.5 190.5,-36.5 190.5,-0.5 0,-0.5\"/>\r\n",
       "<text text-anchor=\"middle\" x=\"11.75\" y=\"-13.2\" font-family=\"Times New Roman,serif\" font-size=\"14.00\">b</text>\r\n",
       "<polyline fill=\"none\" stroke=\"black\" points=\"23.5,-0.75 23.5,-36.5\"/>\r\n",
       "<text text-anchor=\"middle\" x=\"66\" y=\"-13.2\" font-family=\"Times New Roman,serif\" font-size=\"14.00\">data &#45;3.0000</text>\r\n",
       "<polyline fill=\"none\" stroke=\"black\" points=\"108.5,-0.75 108.5,-36.5\"/>\r\n",
       "<text text-anchor=\"middle\" x=\"149.5\" y=\"-13.2\" font-family=\"Times New Roman,serif\" font-size=\"14.00\">grad 0.0000</text>\r\n",
       "</g>\r\n",
       "<!-- 2157627262288&#45;&gt;2157627271152* -->\r\n",
       "<g id=\"edge7\" class=\"edge\">\r\n",
       "<title>2157627262288&#45;&gt;2157627271152*</title>\r\n",
       "<path fill=\"none\" stroke=\"black\" d=\"M190.75,-34.83C199.54,-36.35 208.04,-37.82 215.78,-39.15\"/>\r\n",
       "<polygon fill=\"black\" stroke=\"black\" points=\"214.94,-42.56 225.39,-40.81 216.13,-35.66 214.94,-42.56\"/>\r\n",
       "</g>\r\n",
       "<!-- 2157627263392 -->\r\n",
       "<g id=\"node8\" class=\"node\">\r\n",
       "<title>2157627263392</title>\r\n",
       "<polygon fill=\"none\" stroke=\"black\" points=\"316.5,-82.5 316.5,-118.5 508.5,-118.5 508.5,-82.5 316.5,-82.5\"/>\r\n",
       "<text text-anchor=\"middle\" x=\"327.88\" y=\"-95.2\" font-family=\"Times New Roman,serif\" font-size=\"14.00\">c</text>\r\n",
       "<polyline fill=\"none\" stroke=\"black\" points=\"339.25,-82.75 339.25,-118.5\"/>\r\n",
       "<text text-anchor=\"middle\" x=\"382.88\" y=\"-95.2\" font-family=\"Times New Roman,serif\" font-size=\"14.00\">data 10.0000</text>\r\n",
       "<polyline fill=\"none\" stroke=\"black\" points=\"426.5,-82.75 426.5,-118.5\"/>\r\n",
       "<text text-anchor=\"middle\" x=\"467.5\" y=\"-95.2\" font-family=\"Times New Roman,serif\" font-size=\"14.00\">grad 0.0000</text>\r\n",
       "</g>\r\n",
       "<!-- 2157627263392&#45;&gt;2157627270864+ -->\r\n",
       "<g id=\"edge6\" class=\"edge\">\r\n",
       "<title>2157627263392&#45;&gt;2157627270864+</title>\r\n",
       "<path fill=\"none\" stroke=\"black\" d=\"M508.9,-83.49C517.68,-81.92 526.17,-80.41 533.89,-79.03\"/>\r\n",
       "<polygon fill=\"black\" stroke=\"black\" points=\"534.25,-82.52 543.48,-77.32 533.02,-75.63 534.25,-82.52\"/>\r\n",
       "</g>\r\n",
       "<!-- 2157627271152 -->\r\n",
       "<g id=\"node9\" class=\"node\">\r\n",
       "<title>2157627271152</title>\r\n",
       "<polygon fill=\"none\" stroke=\"black\" points=\"318,-27.5 318,-63.5 507,-63.5 507,-27.5 318,-27.5\"/>\r\n",
       "<text text-anchor=\"middle\" x=\"329\" y=\"-40.2\" font-family=\"Times New Roman,serif\" font-size=\"14.00\">e</text>\r\n",
       "<polyline fill=\"none\" stroke=\"black\" points=\"340,-27.75 340,-63.5\"/>\r\n",
       "<text text-anchor=\"middle\" x=\"382.5\" y=\"-40.2\" font-family=\"Times New Roman,serif\" font-size=\"14.00\">data &#45;6.0000</text>\r\n",
       "<polyline fill=\"none\" stroke=\"black\" points=\"425,-27.75 425,-63.5\"/>\r\n",
       "<text text-anchor=\"middle\" x=\"466\" y=\"-40.2\" font-family=\"Times New Roman,serif\" font-size=\"14.00\">grad 0.0000</text>\r\n",
       "</g>\r\n",
       "<!-- 2157627271152&#45;&gt;2157627270864+ -->\r\n",
       "<g id=\"edge5\" class=\"edge\">\r\n",
       "<title>2157627271152&#45;&gt;2157627270864+</title>\r\n",
       "<path fill=\"none\" stroke=\"black\" d=\"M507.09,-61.6C516.45,-63.2 525.5,-64.76 533.71,-66.17\"/>\r\n",
       "<polygon fill=\"black\" stroke=\"black\" points=\"533.1,-69.62 543.55,-67.87 534.29,-62.72 533.1,-69.62\"/>\r\n",
       "</g>\r\n",
       "<!-- 2157627271152*&#45;&gt;2157627271152 -->\r\n",
       "<g id=\"edge3\" class=\"edge\">\r\n",
       "<title>2157627271152*&#45;&gt;2157627271152</title>\r\n",
       "<path fill=\"none\" stroke=\"black\" d=\"M280.78,-45.5C288.29,-45.5 296.96,-45.5 306.2,-45.5\"/>\r\n",
       "<polygon fill=\"black\" stroke=\"black\" points=\"306.2,-49 316.2,-45.5 306.2,-42 306.2,-49\"/>\r\n",
       "</g>\r\n",
       "</g>\r\n",
       "</svg>\r\n"
      ],
      "text/plain": [
       "<graphviz.dot.Digraph at 0x1f65c7ab7c0>"
      ]
     },
     "execution_count": 116,
     "metadata": {},
     "output_type": "execute_result"
    }
   ],
   "source": [
    "draw_dot(L)"
   ]
  },
  {
   "cell_type": "markdown",
   "metadata": {},
   "source": [
    "Start from behind, L first."
   ]
  },
  {
   "cell_type": "code",
   "execution_count": 130,
   "metadata": {},
   "outputs": [
    {
     "data": {
      "text/plain": [
       "Value(data=-8.0)"
      ]
     },
     "execution_count": 130,
     "metadata": {},
     "output_type": "execute_result"
    }
   ],
   "source": [
    "#This is the values initialization before\n",
    "a=Value(2.0,label='a')\n",
    "b=Value(-3.0,label='b')\n",
    "c=Value(10.0,label='c')\n",
    "e=a*b ; e.label='e'\n",
    "d=e+c ; d.label='d'\n",
    "f=Value(-2.0,label='f')\n",
    "L = d*f ;L.label='L'\n",
    "L"
   ]
  },
  {
   "cell_type": "markdown",
   "metadata": {},
   "source": [
    "Intuition example:\n",
    "\n",
    "What is the derrivative L in respect of L, dL/dL? \n",
    "\n",
    "it means what if the L changes by h amount, how much the L is changes -> basically it is the h itself, so it will be 1"
   ]
  },
  {
   "cell_type": "code",
   "execution_count": 131,
   "metadata": {},
   "outputs": [
    {
     "name": "stdout",
     "output_type": "stream",
     "text": [
      "1.000000000000334\n"
     ]
    }
   ],
   "source": [
    "#Biar ga ngerusak global variable jadi kita taro di local variable di function, buat coba coba\n",
    "def lol():\n",
    "    h=0.001 #small amount of change\n",
    "    \n",
    "    a=Value(2.0,label='a')\n",
    "    b=Value(-3.0,label='b')\n",
    "    c=Value(10.0,label='c')\n",
    "    e=a*b ; e.label='e'\n",
    "    d=e+c ; d.label='d'\n",
    "    f=Value(-2.0,label='f')\n",
    "    L = d*f ; label='L'\n",
    "    L1=L.data #Take the value of L from the object Value of L\n",
    "    \n",
    "    #Changes value a little bit (see where h located)\n",
    "    a=Value(2.0,label='a')\n",
    "    b=Value(-3.0,label='b')\n",
    "    c=Value(10.0,label='c')\n",
    "    e=a*b ; e.label='e'\n",
    "    d=e+c ; d.label='d'\n",
    "    f=Value(-2.0,label='f')\n",
    "    L = d*f ; label='L'\n",
    "    L2=L.data +h\n",
    "    \n",
    "    \n",
    "    print((L2-L1)/h)\n",
    "lol()"
   ]
  },
  {
   "cell_type": "code",
   "execution_count": 132,
   "metadata": {},
   "outputs": [],
   "source": [
    "#Jadi otomatis L gradientnya 1 jjadi langsung inisialisasi value grad di L\n",
    "L.grad=1.0"
   ]
  },
  {
   "cell_type": "code",
   "execution_count": 133,
   "metadata": {},
   "outputs": [
    {
     "data": {
      "image/svg+xml": [
       "<?xml version=\"1.0\" encoding=\"UTF-8\" standalone=\"no\"?>\r\n",
       "<!DOCTYPE svg PUBLIC \"-//W3C//DTD SVG 1.1//EN\"\r\n",
       " \"http://www.w3.org/Graphics/SVG/1.1/DTD/svg11.dtd\">\r\n",
       "<!-- Generated by graphviz version 12.0.0 (20240704.0754)\r\n",
       " -->\r\n",
       "<!-- Pages: 1 -->\r\n",
       "<svg width=\"1147pt\" height=\"154pt\"\r\n",
       " viewBox=\"0.00 0.00 1147.25 154.00\" xmlns=\"http://www.w3.org/2000/svg\" xmlns:xlink=\"http://www.w3.org/1999/xlink\">\r\n",
       "<g id=\"graph0\" class=\"graph\" transform=\"scale(1 1) rotate(0) translate(4 150)\">\r\n",
       "<polygon fill=\"white\" stroke=\"none\" points=\"-4,4 -4,-150 1143.25,-150 1143.25,4 -4,4\"/>\r\n",
       "<!-- 2157627350560 -->\r\n",
       "<g id=\"node1\" class=\"node\">\r\n",
       "<title>2157627350560</title>\r\n",
       "<polygon fill=\"none\" stroke=\"black\" points=\"635.25,-54.5 635.25,-90.5 821.25,-90.5 821.25,-54.5 635.25,-54.5\"/>\r\n",
       "<text text-anchor=\"middle\" x=\"647\" y=\"-67.2\" font-family=\"Times New Roman,serif\" font-size=\"14.00\">d</text>\r\n",
       "<polyline fill=\"none\" stroke=\"black\" points=\"658.75,-54.75 658.75,-90.5\"/>\r\n",
       "<text text-anchor=\"middle\" x=\"699\" y=\"-67.2\" font-family=\"Times New Roman,serif\" font-size=\"14.00\">data 4.0000</text>\r\n",
       "<polyline fill=\"none\" stroke=\"black\" points=\"739.25,-54.75 739.25,-90.5\"/>\r\n",
       "<text text-anchor=\"middle\" x=\"780.25\" y=\"-67.2\" font-family=\"Times New Roman,serif\" font-size=\"14.00\">grad 0.0000</text>\r\n",
       "</g>\r\n",
       "<!-- 2157627350224* -->\r\n",
       "<g id=\"node5\" class=\"node\">\r\n",
       "<title>2157627350224*</title>\r\n",
       "<ellipse fill=\"none\" stroke=\"black\" cx=\"885\" cy=\"-99.5\" rx=\"27\" ry=\"18\"/>\r\n",
       "<text text-anchor=\"middle\" x=\"885\" y=\"-94.08\" font-family=\"Times New Roman,serif\" font-size=\"14.00\">*</text>\r\n",
       "</g>\r\n",
       "<!-- 2157627350560&#45;&gt;2157627350224* -->\r\n",
       "<g id=\"edge5\" class=\"edge\">\r\n",
       "<title>2157627350560&#45;&gt;2157627350224*</title>\r\n",
       "<path fill=\"none\" stroke=\"black\" d=\"M821.5,-88.6C830.64,-90.19 839.48,-91.73 847.5,-93.13\"/>\r\n",
       "<polygon fill=\"black\" stroke=\"black\" points=\"846.66,-96.54 857.12,-94.81 847.87,-89.64 846.66,-96.54\"/>\r\n",
       "</g>\r\n",
       "<!-- 2157627350560+ -->\r\n",
       "<g id=\"node2\" class=\"node\">\r\n",
       "<title>2157627350560+</title>\r\n",
       "<ellipse fill=\"none\" stroke=\"black\" cx=\"571.5\" cy=\"-72.5\" rx=\"27\" ry=\"18\"/>\r\n",
       "<text text-anchor=\"middle\" x=\"571.5\" y=\"-67.08\" font-family=\"Times New Roman,serif\" font-size=\"14.00\">+</text>\r\n",
       "</g>\r\n",
       "<!-- 2157627350560+&#45;&gt;2157627350560 -->\r\n",
       "<g id=\"edge1\" class=\"edge\">\r\n",
       "<title>2157627350560+&#45;&gt;2157627350560</title>\r\n",
       "<path fill=\"none\" stroke=\"black\" d=\"M598.75,-72.5C606.11,-72.5 614.58,-72.5 623.59,-72.5\"/>\r\n",
       "<polygon fill=\"black\" stroke=\"black\" points=\"623.3,-76 633.3,-72.5 623.3,-69 623.3,-76\"/>\r\n",
       "</g>\r\n",
       "<!-- 2157627272304 -->\r\n",
       "<g id=\"node3\" class=\"node\">\r\n",
       "<title>2157627272304</title>\r\n",
       "<polygon fill=\"none\" stroke=\"black\" points=\"634.5,-109.5 634.5,-145.5 822,-145.5 822,-109.5 634.5,-109.5\"/>\r\n",
       "<text text-anchor=\"middle\" x=\"644.75\" y=\"-122.2\" font-family=\"Times New Roman,serif\" font-size=\"14.00\">f</text>\r\n",
       "<polyline fill=\"none\" stroke=\"black\" points=\"655,-109.75 655,-145.5\"/>\r\n",
       "<text text-anchor=\"middle\" x=\"697.5\" y=\"-122.2\" font-family=\"Times New Roman,serif\" font-size=\"14.00\">data &#45;2.0000</text>\r\n",
       "<polyline fill=\"none\" stroke=\"black\" points=\"740,-109.75 740,-145.5\"/>\r\n",
       "<text text-anchor=\"middle\" x=\"781\" y=\"-122.2\" font-family=\"Times New Roman,serif\" font-size=\"14.00\">grad 0.0000</text>\r\n",
       "</g>\r\n",
       "<!-- 2157627272304&#45;&gt;2157627350224* -->\r\n",
       "<g id=\"edge4\" class=\"edge\">\r\n",
       "<title>2157627272304&#45;&gt;2157627350224*</title>\r\n",
       "<path fill=\"none\" stroke=\"black\" d=\"M822.39,-110.65C831.15,-109.06 839.63,-107.53 847.34,-106.13\"/>\r\n",
       "<polygon fill=\"black\" stroke=\"black\" points=\"847.71,-109.62 856.93,-104.4 846.46,-102.73 847.71,-109.62\"/>\r\n",
       "</g>\r\n",
       "<!-- 2157627350224 -->\r\n",
       "<g id=\"node4\" class=\"node\">\r\n",
       "<title>2157627350224</title>\r\n",
       "<polygon fill=\"none\" stroke=\"black\" points=\"948,-81.5 948,-117.5 1139.25,-117.5 1139.25,-81.5 948,-81.5\"/>\r\n",
       "<text text-anchor=\"middle\" x=\"960.12\" y=\"-94.2\" font-family=\"Times New Roman,serif\" font-size=\"14.00\">L</text>\r\n",
       "<polyline fill=\"none\" stroke=\"black\" points=\"972.25,-81.75 972.25,-117.5\"/>\r\n",
       "<text text-anchor=\"middle\" x=\"1014.75\" y=\"-94.2\" font-family=\"Times New Roman,serif\" font-size=\"14.00\">data &#45;8.0000</text>\r\n",
       "<polyline fill=\"none\" stroke=\"black\" points=\"1057.25,-81.75 1057.25,-117.5\"/>\r\n",
       "<text text-anchor=\"middle\" x=\"1098.25\" y=\"-94.2\" font-family=\"Times New Roman,serif\" font-size=\"14.00\">grad 1.0000</text>\r\n",
       "</g>\r\n",
       "<!-- 2157627350224*&#45;&gt;2157627350224 -->\r\n",
       "<g id=\"edge2\" class=\"edge\">\r\n",
       "<title>2157627350224*&#45;&gt;2157627350224</title>\r\n",
       "<path fill=\"none\" stroke=\"black\" d=\"M912.22,-99.5C919.38,-99.5 927.61,-99.5 936.37,-99.5\"/>\r\n",
       "<polygon fill=\"black\" stroke=\"black\" points=\"936.21,-103 946.21,-99.5 936.21,-96 936.21,-103\"/>\r\n",
       "</g>\r\n",
       "<!-- 2157627349264 -->\r\n",
       "<g id=\"node6\" class=\"node\">\r\n",
       "<title>2157627349264</title>\r\n",
       "<polygon fill=\"none\" stroke=\"black\" points=\"316.5,-82.5 316.5,-118.5 508.5,-118.5 508.5,-82.5 316.5,-82.5\"/>\r\n",
       "<text text-anchor=\"middle\" x=\"327.88\" y=\"-95.2\" font-family=\"Times New Roman,serif\" font-size=\"14.00\">c</text>\r\n",
       "<polyline fill=\"none\" stroke=\"black\" points=\"339.25,-82.75 339.25,-118.5\"/>\r\n",
       "<text text-anchor=\"middle\" x=\"382.88\" y=\"-95.2\" font-family=\"Times New Roman,serif\" font-size=\"14.00\">data 10.0000</text>\r\n",
       "<polyline fill=\"none\" stroke=\"black\" points=\"426.5,-82.75 426.5,-118.5\"/>\r\n",
       "<text text-anchor=\"middle\" x=\"467.5\" y=\"-95.2\" font-family=\"Times New Roman,serif\" font-size=\"14.00\">grad 0.0000</text>\r\n",
       "</g>\r\n",
       "<!-- 2157627349264&#45;&gt;2157627350560+ -->\r\n",
       "<g id=\"edge7\" class=\"edge\">\r\n",
       "<title>2157627349264&#45;&gt;2157627350560+</title>\r\n",
       "<path fill=\"none\" stroke=\"black\" d=\"M508.9,-83.49C517.68,-81.92 526.17,-80.41 533.89,-79.03\"/>\r\n",
       "<polygon fill=\"black\" stroke=\"black\" points=\"534.25,-82.52 543.48,-77.32 533.02,-75.63 534.25,-82.52\"/>\r\n",
       "</g>\r\n",
       "<!-- 2157627347248 -->\r\n",
       "<g id=\"node7\" class=\"node\">\r\n",
       "<title>2157627347248</title>\r\n",
       "<polygon fill=\"none\" stroke=\"black\" points=\"0,-55.5 0,-91.5 190.5,-91.5 190.5,-55.5 0,-55.5\"/>\r\n",
       "<text text-anchor=\"middle\" x=\"11.75\" y=\"-68.2\" font-family=\"Times New Roman,serif\" font-size=\"14.00\">b</text>\r\n",
       "<polyline fill=\"none\" stroke=\"black\" points=\"23.5,-55.75 23.5,-91.5\"/>\r\n",
       "<text text-anchor=\"middle\" x=\"66\" y=\"-68.2\" font-family=\"Times New Roman,serif\" font-size=\"14.00\">data &#45;3.0000</text>\r\n",
       "<polyline fill=\"none\" stroke=\"black\" points=\"108.5,-55.75 108.5,-91.5\"/>\r\n",
       "<text text-anchor=\"middle\" x=\"149.5\" y=\"-68.2\" font-family=\"Times New Roman,serif\" font-size=\"14.00\">grad 0.0000</text>\r\n",
       "</g>\r\n",
       "<!-- 2157627348352* -->\r\n",
       "<g id=\"node10\" class=\"node\">\r\n",
       "<title>2157627348352*</title>\r\n",
       "<ellipse fill=\"none\" stroke=\"black\" cx=\"253.5\" cy=\"-45.5\" rx=\"27\" ry=\"18\"/>\r\n",
       "<text text-anchor=\"middle\" x=\"253.5\" y=\"-40.08\" font-family=\"Times New Roman,serif\" font-size=\"14.00\">*</text>\r\n",
       "</g>\r\n",
       "<!-- 2157627347248&#45;&gt;2157627348352* -->\r\n",
       "<g id=\"edge9\" class=\"edge\">\r\n",
       "<title>2157627347248&#45;&gt;2157627348352*</title>\r\n",
       "<path fill=\"none\" stroke=\"black\" d=\"M190.75,-56.57C199.54,-54.99 208.04,-53.47 215.78,-52.08\"/>\r\n",
       "<polygon fill=\"black\" stroke=\"black\" points=\"216.16,-55.57 225.39,-50.36 214.93,-48.68 216.16,-55.57\"/>\r\n",
       "</g>\r\n",
       "<!-- 2157627350848 -->\r\n",
       "<g id=\"node8\" class=\"node\">\r\n",
       "<title>2157627350848</title>\r\n",
       "<polygon fill=\"none\" stroke=\"black\" points=\"3,-0.5 3,-36.5 187.5,-36.5 187.5,-0.5 3,-0.5\"/>\r\n",
       "<text text-anchor=\"middle\" x=\"14\" y=\"-13.2\" font-family=\"Times New Roman,serif\" font-size=\"14.00\">a</text>\r\n",
       "<polyline fill=\"none\" stroke=\"black\" points=\"25,-0.75 25,-36.5\"/>\r\n",
       "<text text-anchor=\"middle\" x=\"65.25\" y=\"-13.2\" font-family=\"Times New Roman,serif\" font-size=\"14.00\">data 2.0000</text>\r\n",
       "<polyline fill=\"none\" stroke=\"black\" points=\"105.5,-0.75 105.5,-36.5\"/>\r\n",
       "<text text-anchor=\"middle\" x=\"146.5\" y=\"-13.2\" font-family=\"Times New Roman,serif\" font-size=\"14.00\">grad 0.0000</text>\r\n",
       "</g>\r\n",
       "<!-- 2157627350848&#45;&gt;2157627348352* -->\r\n",
       "<g id=\"edge8\" class=\"edge\">\r\n",
       "<title>2157627350848&#45;&gt;2157627348352*</title>\r\n",
       "<path fill=\"none\" stroke=\"black\" d=\"M187.59,-34.28C197.51,-36 207.14,-37.66 215.8,-39.16\"/>\r\n",
       "<polygon fill=\"black\" stroke=\"black\" points=\"215.02,-42.58 225.47,-40.83 216.22,-35.68 215.02,-42.58\"/>\r\n",
       "</g>\r\n",
       "<!-- 2157627348352 -->\r\n",
       "<g id=\"node9\" class=\"node\">\r\n",
       "<title>2157627348352</title>\r\n",
       "<polygon fill=\"none\" stroke=\"black\" points=\"318,-27.5 318,-63.5 507,-63.5 507,-27.5 318,-27.5\"/>\r\n",
       "<text text-anchor=\"middle\" x=\"329\" y=\"-40.2\" font-family=\"Times New Roman,serif\" font-size=\"14.00\">e</text>\r\n",
       "<polyline fill=\"none\" stroke=\"black\" points=\"340,-27.75 340,-63.5\"/>\r\n",
       "<text text-anchor=\"middle\" x=\"382.5\" y=\"-40.2\" font-family=\"Times New Roman,serif\" font-size=\"14.00\">data &#45;6.0000</text>\r\n",
       "<polyline fill=\"none\" stroke=\"black\" points=\"425,-27.75 425,-63.5\"/>\r\n",
       "<text text-anchor=\"middle\" x=\"466\" y=\"-40.2\" font-family=\"Times New Roman,serif\" font-size=\"14.00\">grad 0.0000</text>\r\n",
       "</g>\r\n",
       "<!-- 2157627348352&#45;&gt;2157627350560+ -->\r\n",
       "<g id=\"edge6\" class=\"edge\">\r\n",
       "<title>2157627348352&#45;&gt;2157627350560+</title>\r\n",
       "<path fill=\"none\" stroke=\"black\" d=\"M507.09,-61.6C516.45,-63.2 525.5,-64.76 533.71,-66.17\"/>\r\n",
       "<polygon fill=\"black\" stroke=\"black\" points=\"533.1,-69.62 543.55,-67.87 534.29,-62.72 533.1,-69.62\"/>\r\n",
       "</g>\r\n",
       "<!-- 2157627348352*&#45;&gt;2157627348352 -->\r\n",
       "<g id=\"edge3\" class=\"edge\">\r\n",
       "<title>2157627348352*&#45;&gt;2157627348352</title>\r\n",
       "<path fill=\"none\" stroke=\"black\" d=\"M280.78,-45.5C288.29,-45.5 296.96,-45.5 306.2,-45.5\"/>\r\n",
       "<polygon fill=\"black\" stroke=\"black\" points=\"306.2,-49 316.2,-45.5 306.2,-42 306.2,-49\"/>\r\n",
       "</g>\r\n",
       "</g>\r\n",
       "</svg>\r\n"
      ],
      "text/plain": [
       "<graphviz.dot.Digraph at 0x1f65c7849a0>"
      ]
     },
     "execution_count": 133,
     "metadata": {},
     "output_type": "execute_result"
    }
   ],
   "source": [
    "draw_dot(L)"
   ]
  },
  {
   "cell_type": "markdown",
   "metadata": {},
   "source": [
    "L= d*f -> ya basically L=df\n",
    "\n",
    "dL/dd =? -> secara calculus kita turunin langsung fungsi L berarti ini f karena kita turunin di variable d\n",
    "\n",
    "Lets see the math expression \n",
    "\n",
    "f(x)=d*f\n",
    "(f(x+h)-f(x))/h \n",
    "\n",
    "= ((d+h) * f - d * f)/ h\n",
    "\n",
    "= ((d * f + h * f) - d * f)/ h\n",
    "\n",
    "= (d * f - d * f + h * f) / h\n",
    "\n",
    "= (h * f)/h  #d*f kurang d*f ya 0 / they cancels out\n",
    "\n",
    "= f #Hasilnya h / h kan 1 jadi ilang karena perkalian , kasarnya dicoret"
   ]
  },
  {
   "cell_type": "code",
   "execution_count": 134,
   "metadata": {},
   "outputs": [],
   "source": [
    "#Inisialize grad in f and d\n",
    "f.grad= 4.0\n",
    "d.grad= -2.0"
   ]
  },
  {
   "cell_type": "code",
   "execution_count": 135,
   "metadata": {},
   "outputs": [
    {
     "data": {
      "image/svg+xml": [
       "<?xml version=\"1.0\" encoding=\"UTF-8\" standalone=\"no\"?>\r\n",
       "<!DOCTYPE svg PUBLIC \"-//W3C//DTD SVG 1.1//EN\"\r\n",
       " \"http://www.w3.org/Graphics/SVG/1.1/DTD/svg11.dtd\">\r\n",
       "<!-- Generated by graphviz version 12.0.0 (20240704.0754)\r\n",
       " -->\r\n",
       "<!-- Pages: 1 -->\r\n",
       "<svg width=\"1150pt\" height=\"154pt\"\r\n",
       " viewBox=\"0.00 0.00 1150.25 154.00\" xmlns=\"http://www.w3.org/2000/svg\" xmlns:xlink=\"http://www.w3.org/1999/xlink\">\r\n",
       "<g id=\"graph0\" class=\"graph\" transform=\"scale(1 1) rotate(0) translate(4 150)\">\r\n",
       "<polygon fill=\"white\" stroke=\"none\" points=\"-4,4 -4,-150 1146.25,-150 1146.25,4 -4,4\"/>\r\n",
       "<!-- 2157627350560 -->\r\n",
       "<g id=\"node1\" class=\"node\">\r\n",
       "<title>2157627350560</title>\r\n",
       "<polygon fill=\"none\" stroke=\"black\" points=\"634.5,-54.5 634.5,-90.5 825,-90.5 825,-54.5 634.5,-54.5\"/>\r\n",
       "<text text-anchor=\"middle\" x=\"646.25\" y=\"-67.2\" font-family=\"Times New Roman,serif\" font-size=\"14.00\">d</text>\r\n",
       "<polyline fill=\"none\" stroke=\"black\" points=\"658,-54.75 658,-90.5\"/>\r\n",
       "<text text-anchor=\"middle\" x=\"698.25\" y=\"-67.2\" font-family=\"Times New Roman,serif\" font-size=\"14.00\">data 4.0000</text>\r\n",
       "<polyline fill=\"none\" stroke=\"black\" points=\"738.5,-54.75 738.5,-90.5\"/>\r\n",
       "<text text-anchor=\"middle\" x=\"781.75\" y=\"-67.2\" font-family=\"Times New Roman,serif\" font-size=\"14.00\">grad &#45;2.0000</text>\r\n",
       "</g>\r\n",
       "<!-- 2157627350224* -->\r\n",
       "<g id=\"node5\" class=\"node\">\r\n",
       "<title>2157627350224*</title>\r\n",
       "<ellipse fill=\"none\" stroke=\"black\" cx=\"888\" cy=\"-99.5\" rx=\"27\" ry=\"18\"/>\r\n",
       "<text text-anchor=\"middle\" x=\"888\" y=\"-94.08\" font-family=\"Times New Roman,serif\" font-size=\"14.00\">*</text>\r\n",
       "</g>\r\n",
       "<!-- 2157627350560&#45;&gt;2157627350224* -->\r\n",
       "<g id=\"edge5\" class=\"edge\">\r\n",
       "<title>2157627350560&#45;&gt;2157627350224*</title>\r\n",
       "<path fill=\"none\" stroke=\"black\" d=\"M825.25,-88.83C834.04,-90.35 842.54,-91.82 850.28,-93.15\"/>\r\n",
       "<polygon fill=\"black\" stroke=\"black\" points=\"849.44,-96.56 859.89,-94.81 850.63,-89.66 849.44,-96.56\"/>\r\n",
       "</g>\r\n",
       "<!-- 2157627350560+ -->\r\n",
       "<g id=\"node2\" class=\"node\">\r\n",
       "<title>2157627350560+</title>\r\n",
       "<ellipse fill=\"none\" stroke=\"black\" cx=\"571.5\" cy=\"-72.5\" rx=\"27\" ry=\"18\"/>\r\n",
       "<text text-anchor=\"middle\" x=\"571.5\" y=\"-67.08\" font-family=\"Times New Roman,serif\" font-size=\"14.00\">+</text>\r\n",
       "</g>\r\n",
       "<!-- 2157627350560+&#45;&gt;2157627350560 -->\r\n",
       "<g id=\"edge1\" class=\"edge\">\r\n",
       "<title>2157627350560+&#45;&gt;2157627350560</title>\r\n",
       "<path fill=\"none\" stroke=\"black\" d=\"M598.65,-72.5C605.8,-72.5 614.01,-72.5 622.75,-72.5\"/>\r\n",
       "<polygon fill=\"black\" stroke=\"black\" points=\"622.56,-76 632.56,-72.5 622.56,-69 622.56,-76\"/>\r\n",
       "</g>\r\n",
       "<!-- 2157627272304 -->\r\n",
       "<g id=\"node3\" class=\"node\">\r\n",
       "<title>2157627272304</title>\r\n",
       "<polygon fill=\"none\" stroke=\"black\" points=\"636,-109.5 636,-145.5 823.5,-145.5 823.5,-109.5 636,-109.5\"/>\r\n",
       "<text text-anchor=\"middle\" x=\"646.25\" y=\"-122.2\" font-family=\"Times New Roman,serif\" font-size=\"14.00\">f</text>\r\n",
       "<polyline fill=\"none\" stroke=\"black\" points=\"656.5,-109.75 656.5,-145.5\"/>\r\n",
       "<text text-anchor=\"middle\" x=\"699\" y=\"-122.2\" font-family=\"Times New Roman,serif\" font-size=\"14.00\">data &#45;2.0000</text>\r\n",
       "<polyline fill=\"none\" stroke=\"black\" points=\"741.5,-109.75 741.5,-145.5\"/>\r\n",
       "<text text-anchor=\"middle\" x=\"782.5\" y=\"-122.2\" font-family=\"Times New Roman,serif\" font-size=\"14.00\">grad 4.0000</text>\r\n",
       "</g>\r\n",
       "<!-- 2157627272304&#45;&gt;2157627350224* -->\r\n",
       "<g id=\"edge4\" class=\"edge\">\r\n",
       "<title>2157627272304&#45;&gt;2157627350224*</title>\r\n",
       "<path fill=\"none\" stroke=\"black\" d=\"M823.9,-110.81C833.21,-109.14 842.22,-107.52 850.38,-106.06\"/>\r\n",
       "<polygon fill=\"black\" stroke=\"black\" points=\"850.95,-109.52 860.18,-104.31 849.71,-102.63 850.95,-109.52\"/>\r\n",
       "</g>\r\n",
       "<!-- 2157627350224 -->\r\n",
       "<g id=\"node4\" class=\"node\">\r\n",
       "<title>2157627350224</title>\r\n",
       "<polygon fill=\"none\" stroke=\"black\" points=\"951,-81.5 951,-117.5 1142.25,-117.5 1142.25,-81.5 951,-81.5\"/>\r\n",
       "<text text-anchor=\"middle\" x=\"963.12\" y=\"-94.2\" font-family=\"Times New Roman,serif\" font-size=\"14.00\">L</text>\r\n",
       "<polyline fill=\"none\" stroke=\"black\" points=\"975.25,-81.75 975.25,-117.5\"/>\r\n",
       "<text text-anchor=\"middle\" x=\"1017.75\" y=\"-94.2\" font-family=\"Times New Roman,serif\" font-size=\"14.00\">data &#45;8.0000</text>\r\n",
       "<polyline fill=\"none\" stroke=\"black\" points=\"1060.25,-81.75 1060.25,-117.5\"/>\r\n",
       "<text text-anchor=\"middle\" x=\"1101.25\" y=\"-94.2\" font-family=\"Times New Roman,serif\" font-size=\"14.00\">grad 1.0000</text>\r\n",
       "</g>\r\n",
       "<!-- 2157627350224*&#45;&gt;2157627350224 -->\r\n",
       "<g id=\"edge2\" class=\"edge\">\r\n",
       "<title>2157627350224*&#45;&gt;2157627350224</title>\r\n",
       "<path fill=\"none\" stroke=\"black\" d=\"M915.22,-99.5C922.38,-99.5 930.61,-99.5 939.37,-99.5\"/>\r\n",
       "<polygon fill=\"black\" stroke=\"black\" points=\"939.21,-103 949.21,-99.5 939.21,-96 939.21,-103\"/>\r\n",
       "</g>\r\n",
       "<!-- 2157627349264 -->\r\n",
       "<g id=\"node6\" class=\"node\">\r\n",
       "<title>2157627349264</title>\r\n",
       "<polygon fill=\"none\" stroke=\"black\" points=\"316.5,-82.5 316.5,-118.5 508.5,-118.5 508.5,-82.5 316.5,-82.5\"/>\r\n",
       "<text text-anchor=\"middle\" x=\"327.88\" y=\"-95.2\" font-family=\"Times New Roman,serif\" font-size=\"14.00\">c</text>\r\n",
       "<polyline fill=\"none\" stroke=\"black\" points=\"339.25,-82.75 339.25,-118.5\"/>\r\n",
       "<text text-anchor=\"middle\" x=\"382.88\" y=\"-95.2\" font-family=\"Times New Roman,serif\" font-size=\"14.00\">data 10.0000</text>\r\n",
       "<polyline fill=\"none\" stroke=\"black\" points=\"426.5,-82.75 426.5,-118.5\"/>\r\n",
       "<text text-anchor=\"middle\" x=\"467.5\" y=\"-95.2\" font-family=\"Times New Roman,serif\" font-size=\"14.00\">grad 0.0000</text>\r\n",
       "</g>\r\n",
       "<!-- 2157627349264&#45;&gt;2157627350560+ -->\r\n",
       "<g id=\"edge7\" class=\"edge\">\r\n",
       "<title>2157627349264&#45;&gt;2157627350560+</title>\r\n",
       "<path fill=\"none\" stroke=\"black\" d=\"M508.9,-83.49C517.68,-81.92 526.17,-80.41 533.89,-79.03\"/>\r\n",
       "<polygon fill=\"black\" stroke=\"black\" points=\"534.25,-82.52 543.48,-77.32 533.02,-75.63 534.25,-82.52\"/>\r\n",
       "</g>\r\n",
       "<!-- 2157627347248 -->\r\n",
       "<g id=\"node7\" class=\"node\">\r\n",
       "<title>2157627347248</title>\r\n",
       "<polygon fill=\"none\" stroke=\"black\" points=\"0,-55.5 0,-91.5 190.5,-91.5 190.5,-55.5 0,-55.5\"/>\r\n",
       "<text text-anchor=\"middle\" x=\"11.75\" y=\"-68.2\" font-family=\"Times New Roman,serif\" font-size=\"14.00\">b</text>\r\n",
       "<polyline fill=\"none\" stroke=\"black\" points=\"23.5,-55.75 23.5,-91.5\"/>\r\n",
       "<text text-anchor=\"middle\" x=\"66\" y=\"-68.2\" font-family=\"Times New Roman,serif\" font-size=\"14.00\">data &#45;3.0000</text>\r\n",
       "<polyline fill=\"none\" stroke=\"black\" points=\"108.5,-55.75 108.5,-91.5\"/>\r\n",
       "<text text-anchor=\"middle\" x=\"149.5\" y=\"-68.2\" font-family=\"Times New Roman,serif\" font-size=\"14.00\">grad 0.0000</text>\r\n",
       "</g>\r\n",
       "<!-- 2157627348352* -->\r\n",
       "<g id=\"node10\" class=\"node\">\r\n",
       "<title>2157627348352*</title>\r\n",
       "<ellipse fill=\"none\" stroke=\"black\" cx=\"253.5\" cy=\"-45.5\" rx=\"27\" ry=\"18\"/>\r\n",
       "<text text-anchor=\"middle\" x=\"253.5\" y=\"-40.08\" font-family=\"Times New Roman,serif\" font-size=\"14.00\">*</text>\r\n",
       "</g>\r\n",
       "<!-- 2157627347248&#45;&gt;2157627348352* -->\r\n",
       "<g id=\"edge9\" class=\"edge\">\r\n",
       "<title>2157627347248&#45;&gt;2157627348352*</title>\r\n",
       "<path fill=\"none\" stroke=\"black\" d=\"M190.75,-56.57C199.54,-54.99 208.04,-53.47 215.78,-52.08\"/>\r\n",
       "<polygon fill=\"black\" stroke=\"black\" points=\"216.16,-55.57 225.39,-50.36 214.93,-48.68 216.16,-55.57\"/>\r\n",
       "</g>\r\n",
       "<!-- 2157627350848 -->\r\n",
       "<g id=\"node8\" class=\"node\">\r\n",
       "<title>2157627350848</title>\r\n",
       "<polygon fill=\"none\" stroke=\"black\" points=\"3,-0.5 3,-36.5 187.5,-36.5 187.5,-0.5 3,-0.5\"/>\r\n",
       "<text text-anchor=\"middle\" x=\"14\" y=\"-13.2\" font-family=\"Times New Roman,serif\" font-size=\"14.00\">a</text>\r\n",
       "<polyline fill=\"none\" stroke=\"black\" points=\"25,-0.75 25,-36.5\"/>\r\n",
       "<text text-anchor=\"middle\" x=\"65.25\" y=\"-13.2\" font-family=\"Times New Roman,serif\" font-size=\"14.00\">data 2.0000</text>\r\n",
       "<polyline fill=\"none\" stroke=\"black\" points=\"105.5,-0.75 105.5,-36.5\"/>\r\n",
       "<text text-anchor=\"middle\" x=\"146.5\" y=\"-13.2\" font-family=\"Times New Roman,serif\" font-size=\"14.00\">grad 0.0000</text>\r\n",
       "</g>\r\n",
       "<!-- 2157627350848&#45;&gt;2157627348352* -->\r\n",
       "<g id=\"edge8\" class=\"edge\">\r\n",
       "<title>2157627350848&#45;&gt;2157627348352*</title>\r\n",
       "<path fill=\"none\" stroke=\"black\" d=\"M187.59,-34.28C197.51,-36 207.14,-37.66 215.8,-39.16\"/>\r\n",
       "<polygon fill=\"black\" stroke=\"black\" points=\"215.02,-42.58 225.47,-40.83 216.22,-35.68 215.02,-42.58\"/>\r\n",
       "</g>\r\n",
       "<!-- 2157627348352 -->\r\n",
       "<g id=\"node9\" class=\"node\">\r\n",
       "<title>2157627348352</title>\r\n",
       "<polygon fill=\"none\" stroke=\"black\" points=\"318,-27.5 318,-63.5 507,-63.5 507,-27.5 318,-27.5\"/>\r\n",
       "<text text-anchor=\"middle\" x=\"329\" y=\"-40.2\" font-family=\"Times New Roman,serif\" font-size=\"14.00\">e</text>\r\n",
       "<polyline fill=\"none\" stroke=\"black\" points=\"340,-27.75 340,-63.5\"/>\r\n",
       "<text text-anchor=\"middle\" x=\"382.5\" y=\"-40.2\" font-family=\"Times New Roman,serif\" font-size=\"14.00\">data &#45;6.0000</text>\r\n",
       "<polyline fill=\"none\" stroke=\"black\" points=\"425,-27.75 425,-63.5\"/>\r\n",
       "<text text-anchor=\"middle\" x=\"466\" y=\"-40.2\" font-family=\"Times New Roman,serif\" font-size=\"14.00\">grad 0.0000</text>\r\n",
       "</g>\r\n",
       "<!-- 2157627348352&#45;&gt;2157627350560+ -->\r\n",
       "<g id=\"edge6\" class=\"edge\">\r\n",
       "<title>2157627348352&#45;&gt;2157627350560+</title>\r\n",
       "<path fill=\"none\" stroke=\"black\" d=\"M507.09,-61.6C516.45,-63.2 525.5,-64.76 533.71,-66.17\"/>\r\n",
       "<polygon fill=\"black\" stroke=\"black\" points=\"533.1,-69.62 543.55,-67.87 534.29,-62.72 533.1,-69.62\"/>\r\n",
       "</g>\r\n",
       "<!-- 2157627348352*&#45;&gt;2157627348352 -->\r\n",
       "<g id=\"edge3\" class=\"edge\">\r\n",
       "<title>2157627348352*&#45;&gt;2157627348352</title>\r\n",
       "<path fill=\"none\" stroke=\"black\" d=\"M280.78,-45.5C288.29,-45.5 296.96,-45.5 306.2,-45.5\"/>\r\n",
       "<polygon fill=\"black\" stroke=\"black\" points=\"306.2,-49 316.2,-45.5 306.2,-42 306.2,-49\"/>\r\n",
       "</g>\r\n",
       "</g>\r\n",
       "</svg>\r\n"
      ],
      "text/plain": [
       "<graphviz.dot.Digraph at 0x1f65c784700>"
      ]
     },
     "execution_count": 135,
     "metadata": {},
     "output_type": "execute_result"
    }
   ],
   "source": [
    "draw_dot(L)"
   ]
  },
  {
   "attachments": {
    "image-2.png": {
     "image/png": "[encoded data removed]"
    },
    "image.png": {
     "image/png": "[encoded data removed]"
    }
   },
   "cell_type": "markdown",
   "metadata": {},
   "source": [
    "Backward pass\n",
    "\n",
    "We want to know dL/dc\n",
    "\n",
    "How to know the effect of c to L if we slightly nudge c to positive direction\n",
    "\n",
    "Liat urutannya, jadi C mempengaruhi d terus baru d mempengaruhi L\n",
    "\n",
    "Kita liat dd/dc dan dd/de, this is the local derivative\n",
    "\n",
    "dd/dc= 1\n",
    "\n",
    "dd/de= 1\n",
    "\n",
    "Terus cara mencari dL/dc berarti pakai chain rule\n",
    "\n",
    "![image.png](attachment:image.png)\n",
    "\n",
    "if variable z depends on variable y and y depends on variable x then z depends on x aswell (TRANSITIVE DEPENDENCY gitu) \n",
    "\n",
    "![image-2.png](attachment:image-2.png)\n",
    "\n",
    "It tells how we chain those derivative together correctly by doing multiplication. (Like to differentiate composition of function, fungsi dalam fungsi kayak f(g(x)) -> h(x) buat gambar 1)\n",
    "\n",
    "---\n",
    "dL/dc\n",
    "\n",
    "diketahui\n",
    "\n",
    "dL/dd=-2\n",
    "\n",
    "dd/dc=1\n",
    "\n",
    "jadi dL/dc = (dL/dd) * (dd/dc)"
   ]
  },
  {
   "cell_type": "code",
   "execution_count": 136,
   "metadata": {},
   "outputs": [],
   "source": [
    "c.grad= -2.0*1.0\n",
    "e.grad= -2.0*1.0"
   ]
  },
  {
   "cell_type": "code",
   "execution_count": 137,
   "metadata": {},
   "outputs": [
    {
     "data": {
      "image/svg+xml": [
       "<?xml version=\"1.0\" encoding=\"UTF-8\" standalone=\"no\"?>\r\n",
       "<!DOCTYPE svg PUBLIC \"-//W3C//DTD SVG 1.1//EN\"\r\n",
       " \"http://www.w3.org/Graphics/SVG/1.1/DTD/svg11.dtd\">\r\n",
       "<!-- Generated by graphviz version 12.0.0 (20240704.0754)\r\n",
       " -->\r\n",
       "<!-- Pages: 1 -->\r\n",
       "<svg width=\"1155pt\" height=\"154pt\"\r\n",
       " viewBox=\"0.00 0.00 1154.75 154.00\" xmlns=\"http://www.w3.org/2000/svg\" xmlns:xlink=\"http://www.w3.org/1999/xlink\">\r\n",
       "<g id=\"graph0\" class=\"graph\" transform=\"scale(1 1) rotate(0) translate(4 150)\">\r\n",
       "<polygon fill=\"white\" stroke=\"none\" points=\"-4,4 -4,-150 1150.75,-150 1150.75,4 -4,4\"/>\r\n",
       "<!-- 2157627350560 -->\r\n",
       "<g id=\"node1\" class=\"node\">\r\n",
       "<title>2157627350560</title>\r\n",
       "<polygon fill=\"none\" stroke=\"black\" points=\"639,-54.5 639,-90.5 829.5,-90.5 829.5,-54.5 639,-54.5\"/>\r\n",
       "<text text-anchor=\"middle\" x=\"650.75\" y=\"-67.2\" font-family=\"Times New Roman,serif\" font-size=\"14.00\">d</text>\r\n",
       "<polyline fill=\"none\" stroke=\"black\" points=\"662.5,-54.75 662.5,-90.5\"/>\r\n",
       "<text text-anchor=\"middle\" x=\"702.75\" y=\"-67.2\" font-family=\"Times New Roman,serif\" font-size=\"14.00\">data 4.0000</text>\r\n",
       "<polyline fill=\"none\" stroke=\"black\" points=\"743,-54.75 743,-90.5\"/>\r\n",
       "<text text-anchor=\"middle\" x=\"786.25\" y=\"-67.2\" font-family=\"Times New Roman,serif\" font-size=\"14.00\">grad &#45;2.0000</text>\r\n",
       "</g>\r\n",
       "<!-- 2157627350224* -->\r\n",
       "<g id=\"node5\" class=\"node\">\r\n",
       "<title>2157627350224*</title>\r\n",
       "<ellipse fill=\"none\" stroke=\"black\" cx=\"892.5\" cy=\"-99.5\" rx=\"27\" ry=\"18\"/>\r\n",
       "<text text-anchor=\"middle\" x=\"892.5\" y=\"-94.08\" font-family=\"Times New Roman,serif\" font-size=\"14.00\">*</text>\r\n",
       "</g>\r\n",
       "<!-- 2157627350560&#45;&gt;2157627350224* -->\r\n",
       "<g id=\"edge5\" class=\"edge\">\r\n",
       "<title>2157627350560&#45;&gt;2157627350224*</title>\r\n",
       "<path fill=\"none\" stroke=\"black\" d=\"M829.75,-88.83C838.54,-90.35 847.04,-91.82 854.78,-93.15\"/>\r\n",
       "<polygon fill=\"black\" stroke=\"black\" points=\"853.94,-96.56 864.39,-94.81 855.13,-89.66 853.94,-96.56\"/>\r\n",
       "</g>\r\n",
       "<!-- 2157627350560+ -->\r\n",
       "<g id=\"node2\" class=\"node\">\r\n",
       "<title>2157627350560+</title>\r\n",
       "<ellipse fill=\"none\" stroke=\"black\" cx=\"576\" cy=\"-72.5\" rx=\"27\" ry=\"18\"/>\r\n",
       "<text text-anchor=\"middle\" x=\"576\" y=\"-67.08\" font-family=\"Times New Roman,serif\" font-size=\"14.00\">+</text>\r\n",
       "</g>\r\n",
       "<!-- 2157627350560+&#45;&gt;2157627350560 -->\r\n",
       "<g id=\"edge1\" class=\"edge\">\r\n",
       "<title>2157627350560+&#45;&gt;2157627350560</title>\r\n",
       "<path fill=\"none\" stroke=\"black\" d=\"M603.15,-72.5C610.3,-72.5 618.51,-72.5 627.25,-72.5\"/>\r\n",
       "<polygon fill=\"black\" stroke=\"black\" points=\"627.06,-76 637.06,-72.5 627.06,-69 627.06,-76\"/>\r\n",
       "</g>\r\n",
       "<!-- 2157627272304 -->\r\n",
       "<g id=\"node3\" class=\"node\">\r\n",
       "<title>2157627272304</title>\r\n",
       "<polygon fill=\"none\" stroke=\"black\" points=\"640.5,-109.5 640.5,-145.5 828,-145.5 828,-109.5 640.5,-109.5\"/>\r\n",
       "<text text-anchor=\"middle\" x=\"650.75\" y=\"-122.2\" font-family=\"Times New Roman,serif\" font-size=\"14.00\">f</text>\r\n",
       "<polyline fill=\"none\" stroke=\"black\" points=\"661,-109.75 661,-145.5\"/>\r\n",
       "<text text-anchor=\"middle\" x=\"703.5\" y=\"-122.2\" font-family=\"Times New Roman,serif\" font-size=\"14.00\">data &#45;2.0000</text>\r\n",
       "<polyline fill=\"none\" stroke=\"black\" points=\"746,-109.75 746,-145.5\"/>\r\n",
       "<text text-anchor=\"middle\" x=\"787\" y=\"-122.2\" font-family=\"Times New Roman,serif\" font-size=\"14.00\">grad 4.0000</text>\r\n",
       "</g>\r\n",
       "<!-- 2157627272304&#45;&gt;2157627350224* -->\r\n",
       "<g id=\"edge4\" class=\"edge\">\r\n",
       "<title>2157627272304&#45;&gt;2157627350224*</title>\r\n",
       "<path fill=\"none\" stroke=\"black\" d=\"M828.4,-110.81C837.71,-109.14 846.72,-107.52 854.88,-106.06\"/>\r\n",
       "<polygon fill=\"black\" stroke=\"black\" points=\"855.45,-109.52 864.68,-104.31 854.21,-102.63 855.45,-109.52\"/>\r\n",
       "</g>\r\n",
       "<!-- 2157627350224 -->\r\n",
       "<g id=\"node4\" class=\"node\">\r\n",
       "<title>2157627350224</title>\r\n",
       "<polygon fill=\"none\" stroke=\"black\" points=\"955.5,-81.5 955.5,-117.5 1146.75,-117.5 1146.75,-81.5 955.5,-81.5\"/>\r\n",
       "<text text-anchor=\"middle\" x=\"967.62\" y=\"-94.2\" font-family=\"Times New Roman,serif\" font-size=\"14.00\">L</text>\r\n",
       "<polyline fill=\"none\" stroke=\"black\" points=\"979.75,-81.75 979.75,-117.5\"/>\r\n",
       "<text text-anchor=\"middle\" x=\"1022.25\" y=\"-94.2\" font-family=\"Times New Roman,serif\" font-size=\"14.00\">data &#45;8.0000</text>\r\n",
       "<polyline fill=\"none\" stroke=\"black\" points=\"1064.75,-81.75 1064.75,-117.5\"/>\r\n",
       "<text text-anchor=\"middle\" x=\"1105.75\" y=\"-94.2\" font-family=\"Times New Roman,serif\" font-size=\"14.00\">grad 1.0000</text>\r\n",
       "</g>\r\n",
       "<!-- 2157627350224*&#45;&gt;2157627350224 -->\r\n",
       "<g id=\"edge2\" class=\"edge\">\r\n",
       "<title>2157627350224*&#45;&gt;2157627350224</title>\r\n",
       "<path fill=\"none\" stroke=\"black\" d=\"M919.72,-99.5C926.88,-99.5 935.11,-99.5 943.87,-99.5\"/>\r\n",
       "<polygon fill=\"black\" stroke=\"black\" points=\"943.71,-103 953.71,-99.5 943.71,-96 943.71,-103\"/>\r\n",
       "</g>\r\n",
       "<!-- 2157627349264 -->\r\n",
       "<g id=\"node6\" class=\"node\">\r\n",
       "<title>2157627349264</title>\r\n",
       "<polygon fill=\"none\" stroke=\"black\" points=\"316.5,-82.5 316.5,-118.5 513,-118.5 513,-82.5 316.5,-82.5\"/>\r\n",
       "<text text-anchor=\"middle\" x=\"327.88\" y=\"-95.2\" font-family=\"Times New Roman,serif\" font-size=\"14.00\">c</text>\r\n",
       "<polyline fill=\"none\" stroke=\"black\" points=\"339.25,-82.75 339.25,-118.5\"/>\r\n",
       "<text text-anchor=\"middle\" x=\"382.88\" y=\"-95.2\" font-family=\"Times New Roman,serif\" font-size=\"14.00\">data 10.0000</text>\r\n",
       "<polyline fill=\"none\" stroke=\"black\" points=\"426.5,-82.75 426.5,-118.5\"/>\r\n",
       "<text text-anchor=\"middle\" x=\"469.75\" y=\"-95.2\" font-family=\"Times New Roman,serif\" font-size=\"14.00\">grad &#45;2.0000</text>\r\n",
       "</g>\r\n",
       "<!-- 2157627349264&#45;&gt;2157627350560+ -->\r\n",
       "<g id=\"edge7\" class=\"edge\">\r\n",
       "<title>2157627349264&#45;&gt;2157627350560+</title>\r\n",
       "<path fill=\"none\" stroke=\"black\" d=\"M513.43,-83.33C522.13,-81.8 530.53,-80.32 538.18,-78.97\"/>\r\n",
       "<polygon fill=\"black\" stroke=\"black\" points=\"538.79,-82.42 548.03,-77.24 537.58,-75.53 538.79,-82.42\"/>\r\n",
       "</g>\r\n",
       "<!-- 2157627347248 -->\r\n",
       "<g id=\"node7\" class=\"node\">\r\n",
       "<title>2157627347248</title>\r\n",
       "<polygon fill=\"none\" stroke=\"black\" points=\"0,-55.5 0,-91.5 190.5,-91.5 190.5,-55.5 0,-55.5\"/>\r\n",
       "<text text-anchor=\"middle\" x=\"11.75\" y=\"-68.2\" font-family=\"Times New Roman,serif\" font-size=\"14.00\">b</text>\r\n",
       "<polyline fill=\"none\" stroke=\"black\" points=\"23.5,-55.75 23.5,-91.5\"/>\r\n",
       "<text text-anchor=\"middle\" x=\"66\" y=\"-68.2\" font-family=\"Times New Roman,serif\" font-size=\"14.00\">data &#45;3.0000</text>\r\n",
       "<polyline fill=\"none\" stroke=\"black\" points=\"108.5,-55.75 108.5,-91.5\"/>\r\n",
       "<text text-anchor=\"middle\" x=\"149.5\" y=\"-68.2\" font-family=\"Times New Roman,serif\" font-size=\"14.00\">grad 0.0000</text>\r\n",
       "</g>\r\n",
       "<!-- 2157627348352* -->\r\n",
       "<g id=\"node10\" class=\"node\">\r\n",
       "<title>2157627348352*</title>\r\n",
       "<ellipse fill=\"none\" stroke=\"black\" cx=\"253.5\" cy=\"-45.5\" rx=\"27\" ry=\"18\"/>\r\n",
       "<text text-anchor=\"middle\" x=\"253.5\" y=\"-40.08\" font-family=\"Times New Roman,serif\" font-size=\"14.00\">*</text>\r\n",
       "</g>\r\n",
       "<!-- 2157627347248&#45;&gt;2157627348352* -->\r\n",
       "<g id=\"edge9\" class=\"edge\">\r\n",
       "<title>2157627347248&#45;&gt;2157627348352*</title>\r\n",
       "<path fill=\"none\" stroke=\"black\" d=\"M190.75,-56.57C199.54,-54.99 208.04,-53.47 215.78,-52.08\"/>\r\n",
       "<polygon fill=\"black\" stroke=\"black\" points=\"216.16,-55.57 225.39,-50.36 214.93,-48.68 216.16,-55.57\"/>\r\n",
       "</g>\r\n",
       "<!-- 2157627350848 -->\r\n",
       "<g id=\"node8\" class=\"node\">\r\n",
       "<title>2157627350848</title>\r\n",
       "<polygon fill=\"none\" stroke=\"black\" points=\"3,-0.5 3,-36.5 187.5,-36.5 187.5,-0.5 3,-0.5\"/>\r\n",
       "<text text-anchor=\"middle\" x=\"14\" y=\"-13.2\" font-family=\"Times New Roman,serif\" font-size=\"14.00\">a</text>\r\n",
       "<polyline fill=\"none\" stroke=\"black\" points=\"25,-0.75 25,-36.5\"/>\r\n",
       "<text text-anchor=\"middle\" x=\"65.25\" y=\"-13.2\" font-family=\"Times New Roman,serif\" font-size=\"14.00\">data 2.0000</text>\r\n",
       "<polyline fill=\"none\" stroke=\"black\" points=\"105.5,-0.75 105.5,-36.5\"/>\r\n",
       "<text text-anchor=\"middle\" x=\"146.5\" y=\"-13.2\" font-family=\"Times New Roman,serif\" font-size=\"14.00\">grad 0.0000</text>\r\n",
       "</g>\r\n",
       "<!-- 2157627350848&#45;&gt;2157627348352* -->\r\n",
       "<g id=\"edge8\" class=\"edge\">\r\n",
       "<title>2157627350848&#45;&gt;2157627348352*</title>\r\n",
       "<path fill=\"none\" stroke=\"black\" d=\"M187.59,-34.28C197.51,-36 207.14,-37.66 215.8,-39.16\"/>\r\n",
       "<polygon fill=\"black\" stroke=\"black\" points=\"215.02,-42.58 225.47,-40.83 216.22,-35.68 215.02,-42.58\"/>\r\n",
       "</g>\r\n",
       "<!-- 2157627348352 -->\r\n",
       "<g id=\"node9\" class=\"node\">\r\n",
       "<title>2157627348352</title>\r\n",
       "<polygon fill=\"none\" stroke=\"black\" points=\"318,-27.5 318,-63.5 511.5,-63.5 511.5,-27.5 318,-27.5\"/>\r\n",
       "<text text-anchor=\"middle\" x=\"329\" y=\"-40.2\" font-family=\"Times New Roman,serif\" font-size=\"14.00\">e</text>\r\n",
       "<polyline fill=\"none\" stroke=\"black\" points=\"340,-27.75 340,-63.5\"/>\r\n",
       "<text text-anchor=\"middle\" x=\"382.5\" y=\"-40.2\" font-family=\"Times New Roman,serif\" font-size=\"14.00\">data &#45;6.0000</text>\r\n",
       "<polyline fill=\"none\" stroke=\"black\" points=\"425,-27.75 425,-63.5\"/>\r\n",
       "<text text-anchor=\"middle\" x=\"468.25\" y=\"-40.2\" font-family=\"Times New Roman,serif\" font-size=\"14.00\">grad &#45;2.0000</text>\r\n",
       "</g>\r\n",
       "<!-- 2157627348352&#45;&gt;2157627350560+ -->\r\n",
       "<g id=\"edge6\" class=\"edge\">\r\n",
       "<title>2157627348352&#45;&gt;2157627350560+</title>\r\n",
       "<path fill=\"none\" stroke=\"black\" d=\"M511.6,-61.75C520.9,-63.33 529.88,-64.85 538.03,-66.23\"/>\r\n",
       "<polygon fill=\"black\" stroke=\"black\" points=\"537.35,-69.67 547.8,-67.89 538.52,-62.77 537.35,-69.67\"/>\r\n",
       "</g>\r\n",
       "<!-- 2157627348352*&#45;&gt;2157627348352 -->\r\n",
       "<g id=\"edge3\" class=\"edge\">\r\n",
       "<title>2157627348352*&#45;&gt;2157627348352</title>\r\n",
       "<path fill=\"none\" stroke=\"black\" d=\"M280.8,-45.5C288.27,-45.5 296.9,-45.5 306.11,-45.5\"/>\r\n",
       "<polygon fill=\"black\" stroke=\"black\" points=\"306.07,-49 316.07,-45.5 306.07,-42 306.07,-49\"/>\r\n",
       "</g>\r\n",
       "</g>\r\n",
       "</svg>\r\n"
      ],
      "text/plain": [
       "<graphviz.dot.Digraph at 0x1f65c7e37f0>"
      ]
     },
     "execution_count": 137,
     "metadata": {},
     "output_type": "execute_result"
    }
   ],
   "source": [
    "draw_dot(L)\n",
    "#Kalo plus polanya keliatan dia cuma ngasih grad dari hasil penjumlahannya, liat tuh sama sama -2"
   ]
  },
  {
   "cell_type": "markdown",
   "metadata": {},
   "source": [
    "dL/db and dL/da\n",
    "\n",
    "Itu butuh ngelewatin e\n",
    "\n",
    "jadi rumus chain rulenya\n",
    "\n",
    "dL/da = (dL/de) * (de/da)\n",
    "\n",
    "so we need dL/de = -2\n",
    "\n",
    "now de/da\n",
    "\n",
    "e=a*b\n",
    "\n",
    "so de/da would be the b value = -3\n",
    "\n",
    "so dL/da= (-2.0*-3.0)\n",
    "\n",
    "dL/db= (dL/de) * (de/db)\n",
    "\n",
    "de/db would be the a value = 2\n",
    "\n",
    "so de/db= (-2.0 * 2.0)"
   ]
  },
  {
   "cell_type": "code",
   "execution_count": 138,
   "metadata": {},
   "outputs": [],
   "source": [
    "a.grad=(-2.0*-3.0)\n",
    "b.grad= (-2.0 * 2.0)"
   ]
  },
  {
   "cell_type": "code",
   "execution_count": 139,
   "metadata": {},
   "outputs": [
    {
     "data": {
      "image/svg+xml": [
       "<?xml version=\"1.0\" encoding=\"UTF-8\" standalone=\"no\"?>\r\n",
       "<!DOCTYPE svg PUBLIC \"-//W3C//DTD SVG 1.1//EN\"\r\n",
       " \"http://www.w3.org/Graphics/SVG/1.1/DTD/svg11.dtd\">\r\n",
       "<!-- Generated by graphviz version 12.0.0 (20240704.0754)\r\n",
       " -->\r\n",
       "<!-- Pages: 1 -->\r\n",
       "<svg width=\"1159pt\" height=\"154pt\"\r\n",
       " viewBox=\"0.00 0.00 1159.25 154.00\" xmlns=\"http://www.w3.org/2000/svg\" xmlns:xlink=\"http://www.w3.org/1999/xlink\">\r\n",
       "<g id=\"graph0\" class=\"graph\" transform=\"scale(1 1) rotate(0) translate(4 150)\">\r\n",
       "<polygon fill=\"white\" stroke=\"none\" points=\"-4,4 -4,-150 1155.25,-150 1155.25,4 -4,4\"/>\r\n",
       "<!-- 2157627350560 -->\r\n",
       "<g id=\"node1\" class=\"node\">\r\n",
       "<title>2157627350560</title>\r\n",
       "<polygon fill=\"none\" stroke=\"black\" points=\"643.5,-54.5 643.5,-90.5 834,-90.5 834,-54.5 643.5,-54.5\"/>\r\n",
       "<text text-anchor=\"middle\" x=\"655.25\" y=\"-67.2\" font-family=\"Times New Roman,serif\" font-size=\"14.00\">d</text>\r\n",
       "<polyline fill=\"none\" stroke=\"black\" points=\"667,-54.75 667,-90.5\"/>\r\n",
       "<text text-anchor=\"middle\" x=\"707.25\" y=\"-67.2\" font-family=\"Times New Roman,serif\" font-size=\"14.00\">data 4.0000</text>\r\n",
       "<polyline fill=\"none\" stroke=\"black\" points=\"747.5,-54.75 747.5,-90.5\"/>\r\n",
       "<text text-anchor=\"middle\" x=\"790.75\" y=\"-67.2\" font-family=\"Times New Roman,serif\" font-size=\"14.00\">grad &#45;2.0000</text>\r\n",
       "</g>\r\n",
       "<!-- 2157627350224* -->\r\n",
       "<g id=\"node5\" class=\"node\">\r\n",
       "<title>2157627350224*</title>\r\n",
       "<ellipse fill=\"none\" stroke=\"black\" cx=\"897\" cy=\"-99.5\" rx=\"27\" ry=\"18\"/>\r\n",
       "<text text-anchor=\"middle\" x=\"897\" y=\"-94.08\" font-family=\"Times New Roman,serif\" font-size=\"14.00\">*</text>\r\n",
       "</g>\r\n",
       "<!-- 2157627350560&#45;&gt;2157627350224* -->\r\n",
       "<g id=\"edge5\" class=\"edge\">\r\n",
       "<title>2157627350560&#45;&gt;2157627350224*</title>\r\n",
       "<path fill=\"none\" stroke=\"black\" d=\"M834.25,-88.83C843.04,-90.35 851.54,-91.82 859.28,-93.15\"/>\r\n",
       "<polygon fill=\"black\" stroke=\"black\" points=\"858.44,-96.56 868.89,-94.81 859.63,-89.66 858.44,-96.56\"/>\r\n",
       "</g>\r\n",
       "<!-- 2157627350560+ -->\r\n",
       "<g id=\"node2\" class=\"node\">\r\n",
       "<title>2157627350560+</title>\r\n",
       "<ellipse fill=\"none\" stroke=\"black\" cx=\"580.5\" cy=\"-72.5\" rx=\"27\" ry=\"18\"/>\r\n",
       "<text text-anchor=\"middle\" x=\"580.5\" y=\"-67.08\" font-family=\"Times New Roman,serif\" font-size=\"14.00\">+</text>\r\n",
       "</g>\r\n",
       "<!-- 2157627350560+&#45;&gt;2157627350560 -->\r\n",
       "<g id=\"edge1\" class=\"edge\">\r\n",
       "<title>2157627350560+&#45;&gt;2157627350560</title>\r\n",
       "<path fill=\"none\" stroke=\"black\" d=\"M607.65,-72.5C614.8,-72.5 623.01,-72.5 631.75,-72.5\"/>\r\n",
       "<polygon fill=\"black\" stroke=\"black\" points=\"631.56,-76 641.56,-72.5 631.56,-69 631.56,-76\"/>\r\n",
       "</g>\r\n",
       "<!-- 2157627272304 -->\r\n",
       "<g id=\"node3\" class=\"node\">\r\n",
       "<title>2157627272304</title>\r\n",
       "<polygon fill=\"none\" stroke=\"black\" points=\"645,-109.5 645,-145.5 832.5,-145.5 832.5,-109.5 645,-109.5\"/>\r\n",
       "<text text-anchor=\"middle\" x=\"655.25\" y=\"-122.2\" font-family=\"Times New Roman,serif\" font-size=\"14.00\">f</text>\r\n",
       "<polyline fill=\"none\" stroke=\"black\" points=\"665.5,-109.75 665.5,-145.5\"/>\r\n",
       "<text text-anchor=\"middle\" x=\"708\" y=\"-122.2\" font-family=\"Times New Roman,serif\" font-size=\"14.00\">data &#45;2.0000</text>\r\n",
       "<polyline fill=\"none\" stroke=\"black\" points=\"750.5,-109.75 750.5,-145.5\"/>\r\n",
       "<text text-anchor=\"middle\" x=\"791.5\" y=\"-122.2\" font-family=\"Times New Roman,serif\" font-size=\"14.00\">grad 4.0000</text>\r\n",
       "</g>\r\n",
       "<!-- 2157627272304&#45;&gt;2157627350224* -->\r\n",
       "<g id=\"edge4\" class=\"edge\">\r\n",
       "<title>2157627272304&#45;&gt;2157627350224*</title>\r\n",
       "<path fill=\"none\" stroke=\"black\" d=\"M832.9,-110.81C842.21,-109.14 851.22,-107.52 859.38,-106.06\"/>\r\n",
       "<polygon fill=\"black\" stroke=\"black\" points=\"859.95,-109.52 869.18,-104.31 858.71,-102.63 859.95,-109.52\"/>\r\n",
       "</g>\r\n",
       "<!-- 2157627350224 -->\r\n",
       "<g id=\"node4\" class=\"node\">\r\n",
       "<title>2157627350224</title>\r\n",
       "<polygon fill=\"none\" stroke=\"black\" points=\"960,-81.5 960,-117.5 1151.25,-117.5 1151.25,-81.5 960,-81.5\"/>\r\n",
       "<text text-anchor=\"middle\" x=\"972.12\" y=\"-94.2\" font-family=\"Times New Roman,serif\" font-size=\"14.00\">L</text>\r\n",
       "<polyline fill=\"none\" stroke=\"black\" points=\"984.25,-81.75 984.25,-117.5\"/>\r\n",
       "<text text-anchor=\"middle\" x=\"1026.75\" y=\"-94.2\" font-family=\"Times New Roman,serif\" font-size=\"14.00\">data &#45;8.0000</text>\r\n",
       "<polyline fill=\"none\" stroke=\"black\" points=\"1069.25,-81.75 1069.25,-117.5\"/>\r\n",
       "<text text-anchor=\"middle\" x=\"1110.25\" y=\"-94.2\" font-family=\"Times New Roman,serif\" font-size=\"14.00\">grad 1.0000</text>\r\n",
       "</g>\r\n",
       "<!-- 2157627350224*&#45;&gt;2157627350224 -->\r\n",
       "<g id=\"edge2\" class=\"edge\">\r\n",
       "<title>2157627350224*&#45;&gt;2157627350224</title>\r\n",
       "<path fill=\"none\" stroke=\"black\" d=\"M924.22,-99.5C931.38,-99.5 939.61,-99.5 948.37,-99.5\"/>\r\n",
       "<polygon fill=\"black\" stroke=\"black\" points=\"948.21,-103 958.21,-99.5 948.21,-96 948.21,-103\"/>\r\n",
       "</g>\r\n",
       "<!-- 2157627349264 -->\r\n",
       "<g id=\"node6\" class=\"node\">\r\n",
       "<title>2157627349264</title>\r\n",
       "<polygon fill=\"none\" stroke=\"black\" points=\"321,-82.5 321,-118.5 517.5,-118.5 517.5,-82.5 321,-82.5\"/>\r\n",
       "<text text-anchor=\"middle\" x=\"332.38\" y=\"-95.2\" font-family=\"Times New Roman,serif\" font-size=\"14.00\">c</text>\r\n",
       "<polyline fill=\"none\" stroke=\"black\" points=\"343.75,-82.75 343.75,-118.5\"/>\r\n",
       "<text text-anchor=\"middle\" x=\"387.38\" y=\"-95.2\" font-family=\"Times New Roman,serif\" font-size=\"14.00\">data 10.0000</text>\r\n",
       "<polyline fill=\"none\" stroke=\"black\" points=\"431,-82.75 431,-118.5\"/>\r\n",
       "<text text-anchor=\"middle\" x=\"474.25\" y=\"-95.2\" font-family=\"Times New Roman,serif\" font-size=\"14.00\">grad &#45;2.0000</text>\r\n",
       "</g>\r\n",
       "<!-- 2157627349264&#45;&gt;2157627350560+ -->\r\n",
       "<g id=\"edge7\" class=\"edge\">\r\n",
       "<title>2157627349264&#45;&gt;2157627350560+</title>\r\n",
       "<path fill=\"none\" stroke=\"black\" d=\"M517.93,-83.33C526.63,-81.8 535.03,-80.32 542.68,-78.97\"/>\r\n",
       "<polygon fill=\"black\" stroke=\"black\" points=\"543.29,-82.42 552.53,-77.24 542.08,-75.53 543.29,-82.42\"/>\r\n",
       "</g>\r\n",
       "<!-- 2157627347248 -->\r\n",
       "<g id=\"node7\" class=\"node\">\r\n",
       "<title>2157627347248</title>\r\n",
       "<polygon fill=\"none\" stroke=\"black\" points=\"0,-55.5 0,-91.5 195,-91.5 195,-55.5 0,-55.5\"/>\r\n",
       "<text text-anchor=\"middle\" x=\"11.75\" y=\"-68.2\" font-family=\"Times New Roman,serif\" font-size=\"14.00\">b</text>\r\n",
       "<polyline fill=\"none\" stroke=\"black\" points=\"23.5,-55.75 23.5,-91.5\"/>\r\n",
       "<text text-anchor=\"middle\" x=\"66\" y=\"-68.2\" font-family=\"Times New Roman,serif\" font-size=\"14.00\">data &#45;3.0000</text>\r\n",
       "<polyline fill=\"none\" stroke=\"black\" points=\"108.5,-55.75 108.5,-91.5\"/>\r\n",
       "<text text-anchor=\"middle\" x=\"151.75\" y=\"-68.2\" font-family=\"Times New Roman,serif\" font-size=\"14.00\">grad &#45;4.0000</text>\r\n",
       "</g>\r\n",
       "<!-- 2157627348352* -->\r\n",
       "<g id=\"node10\" class=\"node\">\r\n",
       "<title>2157627348352*</title>\r\n",
       "<ellipse fill=\"none\" stroke=\"black\" cx=\"258\" cy=\"-45.5\" rx=\"27\" ry=\"18\"/>\r\n",
       "<text text-anchor=\"middle\" x=\"258\" y=\"-40.08\" font-family=\"Times New Roman,serif\" font-size=\"14.00\">*</text>\r\n",
       "</g>\r\n",
       "<!-- 2157627347248&#45;&gt;2157627348352* -->\r\n",
       "<g id=\"edge9\" class=\"edge\">\r\n",
       "<title>2157627347248&#45;&gt;2157627348352*</title>\r\n",
       "<path fill=\"none\" stroke=\"black\" d=\"M195.27,-56.41C204.08,-54.85 212.6,-53.34 220.34,-51.98\"/>\r\n",
       "<polygon fill=\"black\" stroke=\"black\" points=\"220.7,-55.47 229.94,-50.28 219.49,-48.57 220.7,-55.47\"/>\r\n",
       "</g>\r\n",
       "<!-- 2157627350848 -->\r\n",
       "<g id=\"node8\" class=\"node\">\r\n",
       "<title>2157627350848</title>\r\n",
       "<polygon fill=\"none\" stroke=\"black\" points=\"5.25,-0.5 5.25,-36.5 189.75,-36.5 189.75,-0.5 5.25,-0.5\"/>\r\n",
       "<text text-anchor=\"middle\" x=\"16.25\" y=\"-13.2\" font-family=\"Times New Roman,serif\" font-size=\"14.00\">a</text>\r\n",
       "<polyline fill=\"none\" stroke=\"black\" points=\"27.25,-0.75 27.25,-36.5\"/>\r\n",
       "<text text-anchor=\"middle\" x=\"67.5\" y=\"-13.2\" font-family=\"Times New Roman,serif\" font-size=\"14.00\">data 2.0000</text>\r\n",
       "<polyline fill=\"none\" stroke=\"black\" points=\"107.75,-0.75 107.75,-36.5\"/>\r\n",
       "<text text-anchor=\"middle\" x=\"148.75\" y=\"-13.2\" font-family=\"Times New Roman,serif\" font-size=\"14.00\">grad 6.0000</text>\r\n",
       "</g>\r\n",
       "<!-- 2157627350848&#45;&gt;2157627348352* -->\r\n",
       "<g id=\"edge8\" class=\"edge\">\r\n",
       "<title>2157627350848&#45;&gt;2157627348352*</title>\r\n",
       "<path fill=\"none\" stroke=\"black\" d=\"M190.24,-34.13C200.71,-35.91 210.89,-37.64 220.01,-39.2\"/>\r\n",
       "<polygon fill=\"black\" stroke=\"black\" points=\"219.38,-42.64 229.83,-40.87 220.56,-35.74 219.38,-42.64\"/>\r\n",
       "</g>\r\n",
       "<!-- 2157627348352 -->\r\n",
       "<g id=\"node9\" class=\"node\">\r\n",
       "<title>2157627348352</title>\r\n",
       "<polygon fill=\"none\" stroke=\"black\" points=\"322.5,-27.5 322.5,-63.5 516,-63.5 516,-27.5 322.5,-27.5\"/>\r\n",
       "<text text-anchor=\"middle\" x=\"333.5\" y=\"-40.2\" font-family=\"Times New Roman,serif\" font-size=\"14.00\">e</text>\r\n",
       "<polyline fill=\"none\" stroke=\"black\" points=\"344.5,-27.75 344.5,-63.5\"/>\r\n",
       "<text text-anchor=\"middle\" x=\"387\" y=\"-40.2\" font-family=\"Times New Roman,serif\" font-size=\"14.00\">data &#45;6.0000</text>\r\n",
       "<polyline fill=\"none\" stroke=\"black\" points=\"429.5,-27.75 429.5,-63.5\"/>\r\n",
       "<text text-anchor=\"middle\" x=\"472.75\" y=\"-40.2\" font-family=\"Times New Roman,serif\" font-size=\"14.00\">grad &#45;2.0000</text>\r\n",
       "</g>\r\n",
       "<!-- 2157627348352&#45;&gt;2157627350560+ -->\r\n",
       "<g id=\"edge6\" class=\"edge\">\r\n",
       "<title>2157627348352&#45;&gt;2157627350560+</title>\r\n",
       "<path fill=\"none\" stroke=\"black\" d=\"M516.1,-61.75C525.4,-63.33 534.38,-64.85 542.53,-66.23\"/>\r\n",
       "<polygon fill=\"black\" stroke=\"black\" points=\"541.85,-69.67 552.3,-67.89 543.02,-62.77 541.85,-69.67\"/>\r\n",
       "</g>\r\n",
       "<!-- 2157627348352*&#45;&gt;2157627348352 -->\r\n",
       "<g id=\"edge3\" class=\"edge\">\r\n",
       "<title>2157627348352*&#45;&gt;2157627348352</title>\r\n",
       "<path fill=\"none\" stroke=\"black\" d=\"M285.3,-45.5C292.77,-45.5 301.4,-45.5 310.61,-45.5\"/>\r\n",
       "<polygon fill=\"black\" stroke=\"black\" points=\"310.57,-49 320.57,-45.5 310.57,-42 310.57,-49\"/>\r\n",
       "</g>\r\n",
       "</g>\r\n",
       "</svg>\r\n"
      ],
      "text/plain": [
       "<graphviz.dot.Digraph at 0x1f65c819a30>"
      ]
     },
     "execution_count": 139,
     "metadata": {},
     "output_type": "execute_result"
    }
   ],
   "source": [
    "draw_dot(L)"
   ]
  },
  {
   "cell_type": "code",
   "execution_count": null,
   "metadata": {},
   "outputs": [],
   "source": []
  }
 ],
 "metadata": {
  "kernelspec": {
   "display_name": "s4",
   "language": "python",
   "name": "python3"
  },
  "language_info": {
   "codemirror_mode": {
    "name": "ipython",
    "version": 3
   },
   "file_extension": ".py",
   "mimetype": "text/x-python",
   "name": "python",
   "nbconvert_exporter": "python",
   "pygments_lexer": "ipython3",
   "version": "3.9.18"
  }
 },
 "nbformat": 4,
 "nbformat_minor": 2
}
